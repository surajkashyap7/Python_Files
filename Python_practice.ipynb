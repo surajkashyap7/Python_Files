{
 "cells": [
  {
   "cell_type": "markdown",
   "metadata": {},
   "source": [
    "## Python"
   ]
  },
  {
   "cell_type": "code",
   "execution_count": 1,
   "metadata": {},
   "outputs": [
    {
     "name": "stdout",
     "output_type": "stream",
     "text": [
      "hello world\n"
     ]
    }
   ],
   "source": [
    "print(\"hello world\")"
   ]
  },
  {
   "cell_type": "code",
   "execution_count": 2,
   "metadata": {},
   "outputs": [
    {
     "data": {
      "text/plain": [
       "300"
      ]
     },
     "execution_count": 2,
     "metadata": {},
     "output_type": "execute_result"
    }
   ],
   "source": [
    "20+250+30"
   ]
  },
  {
   "cell_type": "code",
   "execution_count": 3,
   "metadata": {},
   "outputs": [
    {
     "data": {
      "text/plain": [
       "373"
      ]
     },
     "execution_count": 3,
     "metadata": {},
     "output_type": "execute_result"
    }
   ],
   "source": [
    "10*4+5*9+36*8"
   ]
  },
  {
   "cell_type": "code",
   "execution_count": 4,
   "metadata": {},
   "outputs": [
    {
     "data": {
      "text/plain": [
       "4.5"
      ]
     },
     "execution_count": 4,
     "metadata": {},
     "output_type": "execute_result"
    }
   ],
   "source": [
    "36/8"
   ]
  },
  {
   "cell_type": "code",
   "execution_count": 5,
   "metadata": {},
   "outputs": [],
   "source": [
    "#comment"
   ]
  },
  {
   "cell_type": "code",
   "execution_count": 6,
   "metadata": {},
   "outputs": [
    {
     "name": "stdout",
     "output_type": "stream",
     "text": [
      "Suraj Kashyap"
     ]
    }
   ],
   "source": [
    "print(\"Suraj Kashyap\", end=\"\") # end use for cocatenate"
   ]
  },
  {
   "cell_type": "code",
   "execution_count": 7,
   "metadata": {},
   "outputs": [
    {
     "name": "stdout",
     "output_type": "stream",
     "text": [
      "suraj kashyapis learning python\n"
     ]
    }
   ],
   "source": [
    "print(\"suraj kashyap\", end=\"\")\n",
    "print(\"is learning python\")"
   ]
  },
  {
   "cell_type": "code",
   "execution_count": 8,
   "metadata": {},
   "outputs": [
    {
     "name": "stdout",
     "output_type": "stream",
     "text": [
      "suraj kashyap is leraning python\n"
     ]
    }
   ],
   "source": [
    "print(\"suraj kashyap\", end=\" \")\n",
    "print(\"is leraning python\")"
   ]
  },
  {
   "cell_type": "code",
   "execution_count": 9,
   "metadata": {},
   "outputs": [
    {
     "name": "stdout",
     "output_type": "stream",
     "text": [
      "suraj kashyap #### is learning pyton\n"
     ]
    }
   ],
   "source": [
    "print(\"suraj kashyap\", end=\" #### \")\n",
    "print(\"is learning pyton\")"
   ]
  },
  {
   "cell_type": "code",
   "execution_count": 10,
   "metadata": {},
   "outputs": [
    {
     "name": "stdout",
     "output_type": "stream",
     "text": [
      "c:\\Hello\n"
     ]
    }
   ],
   "source": [
    "print(\"c:\\Hello\")"
   ]
  },
  {
   "cell_type": "code",
   "execution_count": 11,
   "metadata": {},
   "outputs": [
    {
     "name": "stdout",
     "output_type": "stream",
     "text": [
      "c:\n",
      "Hello\n"
     ]
    }
   ],
   "source": [
    "print(\"c:\\nHello\") #\\n use for next line"
   ]
  },
  {
   "cell_type": "code",
   "execution_count": 12,
   "metadata": {},
   "outputs": [
    {
     "name": "stdout",
     "output_type": "stream",
     "text": [
      "c:\\nHello\n"
     ]
    }
   ],
   "source": [
    "print(\"c:\\\\nHello\") # if you want backslash"
   ]
  },
  {
   "cell_type": "code",
   "execution_count": 13,
   "metadata": {},
   "outputs": [
    {
     "name": "stdout",
     "output_type": "stream",
     "text": [
      "c:\"Hello\"\n"
     ]
    }
   ],
   "source": [
    "print(\"c:\\\"Hello\\\"\") # if u want quotes"
   ]
  },
  {
   "cell_type": "code",
   "execution_count": 14,
   "metadata": {},
   "outputs": [
    {
     "name": "stdout",
     "output_type": "stream",
     "text": [
      "He is \n",
      " good boy \t\n"
     ]
    }
   ],
   "source": [
    "print(\"He is \\n good boy \\t\") #\\t gives tab space after good boy"
   ]
  },
  {
   "cell_type": "code",
   "execution_count": 15,
   "metadata": {},
   "outputs": [
    {
     "name": "stdout",
     "output_type": "stream",
     "text": [
      "He is \n",
      " good boy \t1\n"
     ]
    }
   ],
   "source": [
    "print(\"He is \\n good boy \\t1\") # check on google escape sequence character in python"
   ]
  },
  {
   "cell_type": "code",
   "execution_count": 16,
   "metadata": {},
   "outputs": [
    {
     "name": "stdout",
     "output_type": "stream",
     "text": [
      "hello\n",
      "<class 'str'>\n"
     ]
    }
   ],
   "source": [
    "# variables, datatypes and typecasting\n",
    "var1 = \"hello\" #string\n",
    "var2 = 4       #int\n",
    "var3 = 36.7    #float\n",
    "print(var1)\n",
    "print(type(var1))"
   ]
  },
  {
   "cell_type": "code",
   "execution_count": 17,
   "metadata": {},
   "outputs": [
    {
     "name": "stdout",
     "output_type": "stream",
     "text": [
      "hello32\n"
     ]
    }
   ],
   "source": [
    "var4 = \"32\"     # two string concatenate\n",
    "print(var1+var4)"
   ]
  },
  {
   "cell_type": "code",
   "execution_count": 18,
   "metadata": {},
   "outputs": [
    {
     "name": "stdout",
     "output_type": "stream",
     "text": [
      "62\n"
     ]
    }
   ],
   "source": [
    "var5 = \"30\"       # typecaste...when we change the type of var string to int\n",
    "print(int(var4)+ int(var5))"
   ]
  },
  {
   "cell_type": "code",
   "execution_count": 19,
   "metadata": {},
   "outputs": [
    {
     "name": "stdout",
     "output_type": "stream",
     "text": [
      "hellohellohellohellohellohellohellohellohellohello\n"
     ]
    }
   ],
   "source": [
    "print(10* \"hello\")"
   ]
  },
  {
   "cell_type": "code",
   "execution_count": 20,
   "metadata": {},
   "outputs": [
    {
     "name": "stdout",
     "output_type": "stream",
     "text": [
      "hello\n",
      "hello\n",
      "hello\n",
      "hello\n",
      "hello\n",
      "hello\n",
      "hello\n",
      "hello\n",
      "hello\n",
      "hello\n",
      "\n"
     ]
    }
   ],
   "source": [
    "print(10* \"hello\\n\")"
   ]
  },
  {
   "cell_type": "code",
   "execution_count": 21,
   "metadata": {},
   "outputs": [
    {
     "name": "stdout",
     "output_type": "stream",
     "text": [
      "Enter your number\n",
      "10\n"
     ]
    }
   ],
   "source": [
    "#If u want to take input from user\n",
    "print(\"Enter your number\")\n",
    "inpnum = input() \n"
   ]
  },
  {
   "cell_type": "code",
   "execution_count": 22,
   "metadata": {},
   "outputs": [
    {
     "ename": "TypeError",
     "evalue": "can only concatenate str (not \"int\") to str",
     "output_type": "error",
     "traceback": [
      "\u001b[1;31m---------------------------------------------------------------------------\u001b[0m",
      "\u001b[1;31mTypeError\u001b[0m                                 Traceback (most recent call last)",
      "\u001b[1;32m<ipython-input-22-801462d0946a>\u001b[0m in \u001b[0;36m<module>\u001b[1;34m\u001b[0m\n\u001b[1;32m----> 1\u001b[1;33m \u001b[0mprint\u001b[0m\u001b[1;33m(\u001b[0m\u001b[1;34m\"you entered\"\u001b[0m\u001b[1;33m,\u001b[0m \u001b[0minpnum\u001b[0m\u001b[1;33m+\u001b[0m\u001b[1;36m10\u001b[0m\u001b[1;33m)\u001b[0m\u001b[1;33m\u001b[0m\u001b[1;33m\u001b[0m\u001b[0m\n\u001b[0m",
      "\u001b[1;31mTypeError\u001b[0m: can only concatenate str (not \"int\") to str"
     ]
    }
   ],
   "source": [
    "print(\"you entered\", inpnum+10)  #bcz in input() every thing count as string"
   ]
  },
  {
   "cell_type": "code",
   "execution_count": 23,
   "metadata": {},
   "outputs": [
    {
     "name": "stdout",
     "output_type": "stream",
     "text": [
      "you entered 20\n"
     ]
    }
   ],
   "source": [
    "print(\"you entered\", int (inpnum) +10)"
   ]
  },
  {
   "cell_type": "code",
   "execution_count": 24,
   "metadata": {},
   "outputs": [
    {
     "name": "stdout",
     "output_type": "stream",
     "text": [
      "Enter first number\n",
      "10\n",
      "Enter second number\n",
      "50\n",
      "sum of these numbers is 60\n"
     ]
    }
   ],
   "source": [
    "print(\"Enter first number\")\n",
    "n1 = input()\n",
    "print(\"Enter second number\")\n",
    "n2 = input()\n",
    "print(\"sum of these numbers is\", int(n1)+int(n2))"
   ]
  },
  {
   "cell_type": "code",
   "execution_count": 25,
   "metadata": {},
   "outputs": [
    {
     "name": "stdout",
     "output_type": "stream",
     "text": [
      "He is a good boy\n"
     ]
    }
   ],
   "source": [
    "# string slicing and other functions\n",
    "\n",
    "mystr = \"He is a good boy\"\n",
    "        #0123456789101112131415\n",
    "print(mystr)"
   ]
  },
  {
   "cell_type": "code",
   "execution_count": 26,
   "metadata": {},
   "outputs": [
    {
     "name": "stdout",
     "output_type": "stream",
     "text": [
      "He i\n"
     ]
    }
   ],
   "source": [
    "print(mystr[0:4]) # rule 0 include but 4 exclude"
   ]
  },
  {
   "cell_type": "code",
   "execution_count": 27,
   "metadata": {},
   "outputs": [
    {
     "name": "stdout",
     "output_type": "stream",
     "text": [
      "He is\n"
     ]
    }
   ],
   "source": [
    "print(mystr[0:5])"
   ]
  },
  {
   "cell_type": "code",
   "execution_count": 28,
   "metadata": {},
   "outputs": [
    {
     "name": "stdout",
     "output_type": "stream",
     "text": [
      "16\n"
     ]
    }
   ],
   "source": [
    "print(len(mystr))"
   ]
  },
  {
   "cell_type": "code",
   "execution_count": 29,
   "metadata": {},
   "outputs": [
    {
     "name": "stdout",
     "output_type": "stream",
     "text": [
      "He is a good boy\n"
     ]
    }
   ],
   "source": [
    "print(mystr[0:19])"
   ]
  },
  {
   "cell_type": "code",
   "execution_count": 30,
   "metadata": {},
   "outputs": [
    {
     "ename": "IndexError",
     "evalue": "string index out of range",
     "output_type": "error",
     "traceback": [
      "\u001b[1;31m---------------------------------------------------------------------------\u001b[0m",
      "\u001b[1;31mIndexError\u001b[0m                                Traceback (most recent call last)",
      "\u001b[1;32m<ipython-input-30-2e95df0488f7>\u001b[0m in \u001b[0;36m<module>\u001b[1;34m\u001b[0m\n\u001b[1;32m----> 1\u001b[1;33m \u001b[0mprint\u001b[0m\u001b[1;33m(\u001b[0m\u001b[0mmystr\u001b[0m\u001b[1;33m[\u001b[0m\u001b[1;36m78\u001b[0m\u001b[1;33m]\u001b[0m\u001b[1;33m)\u001b[0m \u001b[1;31m#error dega\u001b[0m\u001b[1;33m\u001b[0m\u001b[1;33m\u001b[0m\u001b[0m\n\u001b[0m",
      "\u001b[1;31mIndexError\u001b[0m: string index out of range"
     ]
    }
   ],
   "source": [
    "print(mystr[78]) #it gives error"
   ]
  },
  {
   "cell_type": "code",
   "execution_count": 31,
   "metadata": {},
   "outputs": [
    {
     "name": "stdout",
     "output_type": "stream",
     "text": [
      "He is a good boy\n"
     ]
    }
   ],
   "source": [
    "print(mystr[0:78]) # but it going to show result"
   ]
  },
  {
   "cell_type": "code",
   "execution_count": 32,
   "metadata": {},
   "outputs": [
    {
     "name": "stdout",
     "output_type": "stream",
     "text": [
      "H s\n"
     ]
    }
   ],
   "source": [
    "print(mystr[0:5:2])"
   ]
  },
  {
   "cell_type": "code",
   "execution_count": 33,
   "metadata": {},
   "outputs": [
    {
     "name": "stdout",
     "output_type": "stream",
     "text": [
      "He is\n"
     ]
    }
   ],
   "source": [
    "print(mystr[:5])"
   ]
  },
  {
   "cell_type": "code",
   "execution_count": 34,
   "metadata": {},
   "outputs": [
    {
     "name": "stdout",
     "output_type": "stream",
     "text": [
      "He is a good boy\n"
     ]
    }
   ],
   "source": [
    "print(mystr[0:])"
   ]
  },
  {
   "cell_type": "code",
   "execution_count": 35,
   "metadata": {},
   "outputs": [
    {
     "name": "stdout",
     "output_type": "stream",
     "text": [
      "He is a good boy\n"
     ]
    }
   ],
   "source": [
    "print(mystr[:])"
   ]
  },
  {
   "cell_type": "code",
   "execution_count": 36,
   "metadata": {},
   "outputs": [
    {
     "name": "stdout",
     "output_type": "stream",
     "text": [
      "He is a good boy\n"
     ]
    }
   ],
   "source": [
    "print(mystr[::])"
   ]
  },
  {
   "cell_type": "code",
   "execution_count": 38,
   "metadata": {},
   "outputs": [
    {
     "name": "stdout",
     "output_type": "stream",
     "text": [
      "He is a good boy\n"
     ]
    }
   ],
   "source": [
    "print(mystr[0:16:1]) #same"
   ]
  },
  {
   "cell_type": "code",
   "execution_count": 40,
   "metadata": {},
   "outputs": [
    {
     "name": "stdout",
     "output_type": "stream",
     "text": [
      "H sago o\n"
     ]
    }
   ],
   "source": [
    "print(mystr[0:16:2])"
   ]
  },
  {
   "cell_type": "code",
   "execution_count": 41,
   "metadata": {},
   "outputs": [
    {
     "name": "stdout",
     "output_type": "stream",
     "text": [
      "Hiao y\n"
     ]
    }
   ],
   "source": [
    "print(mystr[::3])"
   ]
  },
  {
   "cell_type": "code",
   "execution_count": 44,
   "metadata": {},
   "outputs": [
    {
     "name": "stdout",
     "output_type": "stream",
     "text": [
      "y\n"
     ]
    }
   ],
   "source": [
    "print(mystr[-1:])"
   ]
  },
  {
   "cell_type": "code",
   "execution_count": 43,
   "metadata": {},
   "outputs": [
    {
     "name": "stdout",
     "output_type": "stream",
     "text": [
      " b\n"
     ]
    }
   ],
   "source": [
    "print(mystr[-4:-2]) #means[13:15]"
   ]
  },
  {
   "cell_type": "code",
   "execution_count": 45,
   "metadata": {},
   "outputs": [
    {
     "name": "stdout",
     "output_type": "stream",
     "text": [
      "yob doog a si eH\n"
     ]
    }
   ],
   "source": [
    "print(mystr[::-1])"
   ]
  },
  {
   "cell_type": "code",
   "execution_count": 46,
   "metadata": {},
   "outputs": [
    {
     "name": "stdout",
     "output_type": "stream",
     "text": [
      "ybdo  ie\n"
     ]
    }
   ],
   "source": [
    "print(mystr[::-2])"
   ]
  },
  {
   "cell_type": "code",
   "execution_count": 48,
   "metadata": {},
   "outputs": [
    {
     "name": "stdout",
     "output_type": "stream",
     "text": [
      "<class 'str'>\n"
     ]
    }
   ],
   "source": [
    "print(type(mystr))"
   ]
  },
  {
   "cell_type": "code",
   "execution_count": 49,
   "metadata": {},
   "outputs": [
    {
     "name": "stdout",
     "output_type": "stream",
     "text": [
      "False\n"
     ]
    }
   ],
   "source": [
    "print(mystr.isalnum())"
   ]
  },
  {
   "cell_type": "markdown",
   "metadata": {},
   "source": [
    "* retuen boolen( True or False) ##alphanumeric so its give false but when\n",
    "space remove then its true"
   ]
  },
  {
   "cell_type": "code",
   "execution_count": 50,
   "metadata": {},
   "outputs": [
    {
     "name": "stdout",
     "output_type": "stream",
     "text": [
      "True\n"
     ]
    }
   ],
   "source": [
    "print(mystr.endswith(\"boy\"))  # true bcz it ends with boy\n"
   ]
  },
  {
   "cell_type": "code",
   "execution_count": 51,
   "metadata": {},
   "outputs": [
    {
     "name": "stdout",
     "output_type": "stream",
     "text": [
      "3\n"
     ]
    }
   ],
   "source": [
    "print(mystr.count(\"o\"))"
   ]
  },
  {
   "cell_type": "code",
   "execution_count": 52,
   "metadata": {},
   "outputs": [
    {
     "name": "stdout",
     "output_type": "stream",
     "text": [
      "He is a good boy\n"
     ]
    }
   ],
   "source": [
    "print(mystr.capitalize())"
   ]
  },
  {
   "cell_type": "code",
   "execution_count": 53,
   "metadata": {},
   "outputs": [
    {
     "name": "stdout",
     "output_type": "stream",
     "text": [
      "HE IS A GOOD BOY\n"
     ]
    }
   ],
   "source": [
    "print(mystr.upper())"
   ]
  },
  {
   "cell_type": "code",
   "execution_count": 54,
   "metadata": {},
   "outputs": [
    {
     "name": "stdout",
     "output_type": "stream",
     "text": [
      "he is a good boy\n"
     ]
    }
   ],
   "source": [
    "print(mystr.lower())"
   ]
  },
  {
   "cell_type": "code",
   "execution_count": 55,
   "metadata": {},
   "outputs": [
    {
     "name": "stdout",
     "output_type": "stream",
     "text": [
      "3\n"
     ]
    }
   ],
   "source": [
    "print(mystr.find(\"is\")) # from which index it is going to start"
   ]
  },
  {
   "cell_type": "code",
   "execution_count": 56,
   "metadata": {},
   "outputs": [
    {
     "name": "stdout",
     "output_type": "stream",
     "text": [
      "He are a good boy\n"
     ]
    }
   ],
   "source": [
    "print(mystr.replace(\"is\", \"are\"))"
   ]
  },
  {
   "cell_type": "code",
   "execution_count": 57,
   "metadata": {},
   "outputs": [
    {
     "name": "stdout",
     "output_type": "stream",
     "text": [
      "['harpic', 'vim bar', 'biscuit', 'chips']\n"
     ]
    }
   ],
   "source": [
    "# python list and list function\n",
    "grocery = [\"harpic\", \"vim bar\", \"biscuit\", \"chips\"]\n",
    "print(grocery)"
   ]
  },
  {
   "cell_type": "code",
   "execution_count": 58,
   "metadata": {},
   "outputs": [
    {
     "name": "stdout",
     "output_type": "stream",
     "text": [
      "harpic\n"
     ]
    }
   ],
   "source": [
    "print(grocery[0])"
   ]
  },
  {
   "cell_type": "code",
   "execution_count": 59,
   "metadata": {},
   "outputs": [
    {
     "ename": "IndexError",
     "evalue": "list index out of range",
     "output_type": "error",
     "traceback": [
      "\u001b[1;31m---------------------------------------------------------------------------\u001b[0m",
      "\u001b[1;31mIndexError\u001b[0m                                Traceback (most recent call last)",
      "\u001b[1;32m<ipython-input-59-498fa1217e60>\u001b[0m in \u001b[0;36m<module>\u001b[1;34m\u001b[0m\n\u001b[1;32m----> 1\u001b[1;33m \u001b[0mprint\u001b[0m\u001b[1;33m(\u001b[0m\u001b[0mgrocery\u001b[0m\u001b[1;33m[\u001b[0m\u001b[1;36m4\u001b[0m\u001b[1;33m]\u001b[0m\u001b[1;33m)\u001b[0m\u001b[1;33m\u001b[0m\u001b[1;33m\u001b[0m\u001b[0m\n\u001b[0m",
      "\u001b[1;31mIndexError\u001b[0m: list index out of range"
     ]
    }
   ],
   "source": [
    "print(grocery[4])"
   ]
  },
  {
   "cell_type": "code",
   "execution_count": 60,
   "metadata": {},
   "outputs": [
    {
     "name": "stdout",
     "output_type": "stream",
     "text": [
      "chips\n"
     ]
    }
   ],
   "source": [
    "print(grocery[3])"
   ]
  },
  {
   "cell_type": "code",
   "execution_count": 61,
   "metadata": {},
   "outputs": [
    {
     "name": "stdout",
     "output_type": "stream",
     "text": [
      "9\n"
     ]
    }
   ],
   "source": [
    "numbers = [2,7,9,11,3]\n",
    "print(numbers[2])"
   ]
  },
  {
   "cell_type": "code",
   "execution_count": 62,
   "metadata": {},
   "outputs": [
    {
     "name": "stdout",
     "output_type": "stream",
     "text": [
      "None\n"
     ]
    }
   ],
   "source": [
    "print(numbers.sort())"
   ]
  },
  {
   "cell_type": "code",
   "execution_count": 71,
   "metadata": {},
   "outputs": [
    {
     "name": "stdout",
     "output_type": "stream",
     "text": [
      "[2, 3, 7, 9, 11]\n"
     ]
    }
   ],
   "source": [
    "numbers.sort()\n",
    "print(numbers)"
   ]
  },
  {
   "cell_type": "code",
   "execution_count": 66,
   "metadata": {},
   "outputs": [
    {
     "name": "stdout",
     "output_type": "stream",
     "text": [
      "[11, 9, 7, 3, 2]\n"
     ]
    }
   ],
   "source": [
    "numbers.sort()\n",
    "numbers.reverse()\n",
    "print(numbers)"
   ]
  },
  {
   "cell_type": "code",
   "execution_count": 67,
   "metadata": {},
   "outputs": [
    {
     "name": "stdout",
     "output_type": "stream",
     "text": [
      "[11, 9, 7, 3, 2]\n"
     ]
    }
   ],
   "source": [
    "print(numbers[0:5])"
   ]
  },
  {
   "cell_type": "code",
   "execution_count": 68,
   "metadata": {},
   "outputs": [
    {
     "name": "stdout",
     "output_type": "stream",
     "text": [
      "[11, 9, 7, 3, 2]\n"
     ]
    }
   ],
   "source": [
    "print(numbers[:5])"
   ]
  },
  {
   "cell_type": "code",
   "execution_count": 69,
   "metadata": {},
   "outputs": [
    {
     "name": "stdout",
     "output_type": "stream",
     "text": [
      "[11, 9, 7, 3, 2]\n"
     ]
    }
   ],
   "source": [
    "print(numbers[:])"
   ]
  },
  {
   "cell_type": "code",
   "execution_count": 70,
   "metadata": {},
   "outputs": [
    {
     "name": "stdout",
     "output_type": "stream",
     "text": [
      "[9, 7, 3]\n"
     ]
    }
   ],
   "source": [
    "print(numbers[1:4])"
   ]
  },
  {
   "cell_type": "code",
   "execution_count": 71,
   "metadata": {},
   "outputs": [
    {
     "name": "stdout",
     "output_type": "stream",
     "text": [
      "[11, 9, 7, 3, 2]\n"
     ]
    }
   ],
   "source": [
    "print(numbers[::])"
   ]
  },
  {
   "cell_type": "code",
   "execution_count": 72,
   "metadata": {},
   "outputs": [
    {
     "name": "stdout",
     "output_type": "stream",
     "text": [
      "[11, 9, 7, 3, 2]\n"
     ]
    }
   ],
   "source": [
    "print(numbers[::1])# by default 1"
   ]
  },
  {
   "cell_type": "code",
   "execution_count": 73,
   "metadata": {},
   "outputs": [
    {
     "name": "stdout",
     "output_type": "stream",
     "text": [
      "[11, 7, 2]\n"
     ]
    }
   ],
   "source": [
    "print(numbers[::2])"
   ]
  },
  {
   "cell_type": "code",
   "execution_count": 74,
   "metadata": {},
   "outputs": [
    {
     "name": "stdout",
     "output_type": "stream",
     "text": [
      "[2, 7, 11]\n"
     ]
    }
   ],
   "source": [
    "print(numbers[::-2])"
   ]
  },
  {
   "cell_type": "code",
   "execution_count": 75,
   "metadata": {},
   "outputs": [
    {
     "name": "stdout",
     "output_type": "stream",
     "text": [
      "5\n"
     ]
    }
   ],
   "source": [
    "print(len(numbers))"
   ]
  },
  {
   "cell_type": "code",
   "execution_count": 76,
   "metadata": {},
   "outputs": [
    {
     "name": "stdout",
     "output_type": "stream",
     "text": [
      "11\n"
     ]
    }
   ],
   "source": [
    "print(max(numbers))"
   ]
  },
  {
   "cell_type": "code",
   "execution_count": 77,
   "metadata": {},
   "outputs": [
    {
     "name": "stdout",
     "output_type": "stream",
     "text": [
      "2\n"
     ]
    }
   ],
   "source": [
    "print(min(numbers))"
   ]
  },
  {
   "cell_type": "code",
   "execution_count": 78,
   "metadata": {},
   "outputs": [
    {
     "name": "stdout",
     "output_type": "stream",
     "text": [
      "[11, 9, 7, 3, 2, 8]\n"
     ]
    }
   ],
   "source": [
    "#append - add in the end\n",
    "numbers.append(8)\n",
    "print(numbers)\n"
   ]
  },
  {
   "cell_type": "code",
   "execution_count": 79,
   "metadata": {},
   "outputs": [
    {
     "name": "stdout",
     "output_type": "stream",
     "text": [
      "[11, 67, 9, 7, 3, 2, 8]\n"
     ]
    }
   ],
   "source": [
    "numbers.insert(1,67) # insert 67 at index 1\n",
    "print(numbers)"
   ]
  },
  {
   "cell_type": "code",
   "execution_count": 80,
   "metadata": {},
   "outputs": [
    {
     "name": "stdout",
     "output_type": "stream",
     "text": [
      "[11, 67, 7, 3, 2, 8]\n"
     ]
    }
   ],
   "source": [
    "numbers.remove(9)\n",
    "print(numbers)"
   ]
  },
  {
   "cell_type": "code",
   "execution_count": 81,
   "metadata": {},
   "outputs": [
    {
     "name": "stdout",
     "output_type": "stream",
     "text": [
      "[11, 67, 7, 3, 2]\n"
     ]
    }
   ],
   "source": [
    "numbers.pop() # delete last element\n",
    "print(numbers)"
   ]
  },
  {
   "cell_type": "code",
   "execution_count": 82,
   "metadata": {},
   "outputs": [
    {
     "name": "stdout",
     "output_type": "stream",
     "text": [
      "[11, 80, 7, 3, 2]\n"
     ]
    }
   ],
   "source": [
    "numbers[1] = 80 # replace 67 with 80\n",
    "print(numbers)"
   ]
  },
  {
   "cell_type": "code",
   "execution_count": 83,
   "metadata": {},
   "outputs": [
    {
     "name": "stdout",
     "output_type": "stream",
     "text": [
      "(1, 2, 3)\n"
     ]
    }
   ],
   "source": [
    "# mutable - can change\n",
    "# immutable - can't change\n",
    "tp = (1, 2, 3) #tuple...shows parenthesis\n",
    "print(tp)\n"
   ]
  },
  {
   "cell_type": "code",
   "execution_count": 84,
   "metadata": {},
   "outputs": [
    {
     "ename": "TypeError",
     "evalue": "'tuple' object does not support item assignment",
     "output_type": "error",
     "traceback": [
      "\u001b[1;31m---------------------------------------------------------------------------\u001b[0m",
      "\u001b[1;31mTypeError\u001b[0m                                 Traceback (most recent call last)",
      "\u001b[1;32m<ipython-input-84-6ef36ad0dab9>\u001b[0m in \u001b[0;36m<module>\u001b[1;34m\u001b[0m\n\u001b[1;32m----> 1\u001b[1;33m \u001b[0mtp\u001b[0m\u001b[1;33m[\u001b[0m\u001b[1;36m1\u001b[0m\u001b[1;33m]\u001b[0m\u001b[1;33m=\u001b[0m \u001b[1;36m8\u001b[0m  \u001b[1;31m# erroe bcz tuple is immmutable\u001b[0m\u001b[1;33m\u001b[0m\u001b[1;33m\u001b[0m\u001b[0m\n\u001b[0m\u001b[0;32m      2\u001b[0m \u001b[0mprint\u001b[0m\u001b[1;33m(\u001b[0m\u001b[0mtp\u001b[0m\u001b[1;33m)\u001b[0m\u001b[1;33m\u001b[0m\u001b[1;33m\u001b[0m\u001b[0m\n",
      "\u001b[1;31mTypeError\u001b[0m: 'tuple' object does not support item assignment"
     ]
    }
   ],
   "source": [
    "tp[1]= 8  # erroe bcz tuple is immmutable\n",
    "print(tp)"
   ]
  },
  {
   "cell_type": "code",
   "execution_count": 85,
   "metadata": {},
   "outputs": [
    {
     "name": "stdout",
     "output_type": "stream",
     "text": [
      "1\n"
     ]
    }
   ],
   "source": [
    "tp = (1)\n",
    "print(tp)"
   ]
  },
  {
   "cell_type": "code",
   "execution_count": 86,
   "metadata": {},
   "outputs": [
    {
     "name": "stdout",
     "output_type": "stream",
     "text": [
      "(1,)\n"
     ]
    }
   ],
   "source": [
    "tp = (1,) # if one element then u have to put comma to make tuple\n",
    "print(tp)"
   ]
  },
  {
   "cell_type": "code",
   "execution_count": 87,
   "metadata": {},
   "outputs": [
    {
     "name": "stdout",
     "output_type": "stream",
     "text": [
      "1 8\n"
     ]
    }
   ],
   "source": [
    "## Swaping values\n",
    "a = 8\n",
    "b = 1\n",
    "temp = a\n",
    "a = b\n",
    "b = temp\n",
    "print(a,b)"
   ]
  },
  {
   "cell_type": "code",
   "execution_count": 88,
   "metadata": {},
   "outputs": [
    {
     "name": "stdout",
     "output_type": "stream",
     "text": [
      "8 1\n"
     ]
    }
   ],
   "source": [
    "a,b=b,a    \n",
    "print(a,b)"
   ]
  },
  {
   "cell_type": "code",
   "execution_count": 89,
   "metadata": {},
   "outputs": [
    {
     "name": "stdout",
     "output_type": "stream",
     "text": [
      "<class 'dict'>\n"
     ]
    }
   ],
   "source": [
    "# dictionary... is nothing but key value pairs\n",
    "d1 = {}\n",
    "print (type(d1))\n",
    "\n"
   ]
  },
  {
   "cell_type": "code",
   "execution_count": 91,
   "metadata": {},
   "outputs": [
    {
     "name": "stdout",
     "output_type": "stream",
     "text": [
      "burger\n"
     ]
    }
   ],
   "source": [
    "d2 = {\"surya\":\"burger\",\"rohan\":\"fish\",\"happy\":\"apple\",\"sahil\":{\"b\":\"maggie\",\"l\":\"roti\",\"d\":\"chicken\"}}\n",
    "print (d2[\"surya\"])"
   ]
  },
  {
   "cell_type": "code",
   "execution_count": 92,
   "metadata": {},
   "outputs": [
    {
     "name": "stdout",
     "output_type": "stream",
     "text": [
      "{'b': 'maggie', 'l': 'roti', 'd': 'chicken'}\n"
     ]
    }
   ],
   "source": [
    "print (d2[\"sahil\"])"
   ]
  },
  {
   "cell_type": "code",
   "execution_count": 93,
   "metadata": {},
   "outputs": [
    {
     "name": "stdout",
     "output_type": "stream",
     "text": [
      "maggie\n"
     ]
    }
   ],
   "source": [
    "print (d2[\"sahil\"][\"b\"]) "
   ]
  },
  {
   "cell_type": "code",
   "execution_count": 94,
   "metadata": {},
   "outputs": [
    {
     "name": "stdout",
     "output_type": "stream",
     "text": [
      "{'surya': 'burger', 'rohan': 'fish', 'happy': 'apple', 'sahil': {'b': 'maggie', 'l': 'roti', 'd': 'chicken'}, 'ankit': 'junk food'}\n"
     ]
    }
   ],
   "source": [
    "d2[\"ankit\"]= \"junk food\" #keys are immutable\n",
    "print(d2)"
   ]
  },
  {
   "cell_type": "code",
   "execution_count": 95,
   "metadata": {},
   "outputs": [
    {
     "name": "stdout",
     "output_type": "stream",
     "text": [
      "{'surya': 'burger', 'rohan': 'fish', 'happy': 'apple', 'sahil': {'b': 'maggie', 'l': 'roti', 'd': 'chicken'}, 'ankit': 'junk food', 420: 'kabab'}\n"
     ]
    }
   ],
   "source": [
    "d2[420] = \"kabab\"\n",
    "print(d2)"
   ]
  },
  {
   "cell_type": "code",
   "execution_count": 96,
   "metadata": {},
   "outputs": [
    {
     "name": "stdout",
     "output_type": "stream",
     "text": [
      "{'surya': 'burger', 'rohan': 'fish', 'happy': 'apple', 'sahil': {'b': 'maggie', 'l': 'roti', 'd': 'chicken'}, 'ankit': 'junk food'}\n"
     ]
    }
   ],
   "source": [
    "del d2[420]\n",
    "print (d2)"
   ]
  },
  {
   "cell_type": "code",
   "execution_count": 97,
   "metadata": {},
   "outputs": [
    {
     "name": "stdout",
     "output_type": "stream",
     "text": [
      "{'surya': 'burger', 'rohan': 'fish', 'happy': 'apple', 'sahil': {'b': 'maggie', 'l': 'roti', 'd': 'chicken'}, 'ankit': 'junk food', 'ranjan': 'toffee'}\n"
     ]
    }
   ],
   "source": [
    "#d3 = d2.copy()\n",
    "#print(d2.get(\"surya\"))\n",
    "\n",
    "d2.update({\"ranjan\":\"toffee\"})\n",
    "print(d2)"
   ]
  },
  {
   "cell_type": "code",
   "execution_count": 98,
   "metadata": {},
   "outputs": [
    {
     "name": "stdout",
     "output_type": "stream",
     "text": [
      "dict_keys(['surya', 'rohan', 'happy', 'sahil', 'ankit', 'ranjan'])\n"
     ]
    }
   ],
   "source": [
    "print(d2.keys())"
   ]
  },
  {
   "cell_type": "code",
   "execution_count": 99,
   "metadata": {},
   "outputs": [
    {
     "name": "stdout",
     "output_type": "stream",
     "text": [
      "dict_items([('surya', 'burger'), ('rohan', 'fish'), ('happy', 'apple'), ('sahil', {'b': 'maggie', 'l': 'roti', 'd': 'chicken'}), ('ankit', 'junk food'), ('ranjan', 'toffee')])\n"
     ]
    }
   ],
   "source": [
    "print(d2.items())"
   ]
  },
  {
   "cell_type": "code",
   "execution_count": 100,
   "metadata": {},
   "outputs": [
    {
     "name": "stdout",
     "output_type": "stream",
     "text": [
      "Enter the word :hand\n",
      "haath\n"
     ]
    }
   ],
   "source": [
    "# ques- create a dictionary and take input from the user and return the meaning of the word from the dictionary\n",
    "\n",
    "D = {\"hand\":\"haath\",\"head\":\"sir\",\"legs\":\"pair\",\"fingers\":\"ungliya\"}\n",
    "word = input(\"Enter the word :\")\n",
    "print(D[word])"
   ]
  },
  {
   "cell_type": "code",
   "execution_count": 101,
   "metadata": {},
   "outputs": [
    {
     "name": "stdout",
     "output_type": "stream",
     "text": [
      "<class 'set'>\n"
     ]
    }
   ],
   "source": [
    "# sets\n",
    "s = set()\n",
    "print(type(s))"
   ]
  },
  {
   "cell_type": "code",
   "execution_count": 103,
   "metadata": {},
   "outputs": [
    {
     "name": "stdout",
     "output_type": "stream",
     "text": [
      "{1, 2, 3, 4}\n"
     ]
    }
   ],
   "source": [
    "set_from_list = set([1,2,3,4])\n",
    "print(set_from_list)"
   ]
  },
  {
   "cell_type": "code",
   "execution_count": 104,
   "metadata": {},
   "outputs": [
    {
     "name": "stdout",
     "output_type": "stream",
     "text": [
      "{1, 2}\n"
     ]
    }
   ],
   "source": [
    "s = set()\n",
    "s.add(1)\n",
    "s.add(2)\n",
    "print(s)"
   ]
  },
  {
   "cell_type": "code",
   "execution_count": 105,
   "metadata": {},
   "outputs": [
    {
     "name": "stdout",
     "output_type": "stream",
     "text": [
      "{1, 2}\n"
     ]
    }
   ],
   "source": [
    "s.union({1,2}) #set shows unique values\n",
    "print(s)"
   ]
  },
  {
   "cell_type": "code",
   "execution_count": 106,
   "metadata": {},
   "outputs": [
    {
     "name": "stdout",
     "output_type": "stream",
     "text": [
      "{1, 2} {1, 2, 3}\n"
     ]
    }
   ],
   "source": [
    "s1 = s.union({1,2,3})\n",
    "print(s, s1)"
   ]
  },
  {
   "cell_type": "code",
   "execution_count": 107,
   "metadata": {},
   "outputs": [
    {
     "name": "stdout",
     "output_type": "stream",
     "text": [
      "{1, 2} {1, 2}\n"
     ]
    }
   ],
   "source": [
    "s1 = s.intersection({1,2,3})\n",
    "print(s,s1)"
   ]
  },
  {
   "cell_type": "markdown",
   "metadata": {},
   "source": [
    "### if else & elif condition"
   ]
  },
  {
   "cell_type": "code",
   "execution_count": 108,
   "metadata": {},
   "outputs": [
    {
     "name": "stdout",
     "output_type": "stream",
     "text": [
      "25\n",
      "lesser\n"
     ]
    }
   ],
   "source": [
    "\n",
    "var10 = 6\n",
    "var11 = 56\n",
    "var12 = int(input())\n",
    "if var12>var11:\n",
    "    print(\"greater\")\n",
    "else:\n",
    "    print(\"lesser\")"
   ]
  },
  {
   "cell_type": "code",
   "execution_count": 109,
   "metadata": {},
   "outputs": [
    {
     "name": "stdout",
     "output_type": "stream",
     "text": [
      "yes\n"
     ]
    }
   ],
   "source": [
    "list =[5,6,7]\n",
    "if 5 in list:\n",
    "    print(\"yes\")"
   ]
  },
  {
   "cell_type": "code",
   "execution_count": 110,
   "metadata": {},
   "outputs": [
    {
     "name": "stdout",
     "output_type": "stream",
     "text": [
      "True\n",
      "yes\n"
     ]
    }
   ],
   "source": [
    "list1 = [2,6,8,7]\n",
    "print(6 in list1)\n",
    "if 6 in list1:\n",
    "    print(\"yes\")"
   ]
  },
  {
   "cell_type": "code",
   "execution_count": 111,
   "metadata": {},
   "outputs": [
    {
     "name": "stdout",
     "output_type": "stream",
     "text": [
      "False\n",
      "not\n"
     ]
    }
   ],
   "source": [
    "list1 = [2,6,8,7]\n",
    "print(15 in list1)\n",
    "if 15 not in list1:\n",
    "    print(\"not\")"
   ]
  },
  {
   "cell_type": "code",
   "execution_count": 112,
   "metadata": {},
   "outputs": [
    {
     "name": "stdout",
     "output_type": "stream",
     "text": [
      "what is your age?\n",
      "18\n",
      "we will think about you\n"
     ]
    }
   ],
   "source": [
    "print('what is your age?')\n",
    "age = int(input())\n",
    "if age<18:\n",
    "    print(\"you can not drive\")\n",
    "elif age==18:\n",
    "    print(\"we will think about you\")\n",
    "else:\n",
    "    print(\"you can drive\")"
   ]
  },
  {
   "cell_type": "markdown",
   "metadata": {},
   "source": [
    "### ques- faulty calculator\n",
    "\n",
    "design a calculator which will correctly solve all the problems except the following ones\n",
    "45*3=555, 56+9=77, 56/6 =4"
   ]
  },
  {
   "cell_type": "code",
   "execution_count": 113,
   "metadata": {},
   "outputs": [
    {
     "name": "stdout",
     "output_type": "stream",
     "text": [
      "enter your first number\n",
      "45\n",
      "enter your second number\n",
      "3\n",
      "enter your operator\n",
      "*\n",
      "555\n",
      "thankyou for using my calculator\n"
     ]
    }
   ],
   "source": [
    "print(\"enter your first number\")\n",
    "num1 = int(input())\n",
    "print(\"enter your second number\")\n",
    "num2 = int(input())\n",
    "print(\"enter your operator\")\n",
    "operator= input()\n",
    "\n",
    "if operator==\"*\":\n",
    "    if num1*num2==45*3:\n",
    "        print(\"555\")\n",
    "    else:\n",
    "        print(num1*num2)\n",
    "elif operator==\"+\":\n",
    "    if num1+num2==56+9:\n",
    "        print(\"7\")\n",
    "    else:\n",
    "        print(num1+num2)\n",
    "elif operator==\"/\":\n",
    "    if num1/num2==56/6:\n",
    "        print(\"4\")\n",
    "    else:\n",
    "        print(num1/num2)\n",
    "elif operator==\"-\":\n",
    "    print(num1-num2)\n",
    "print(\"thankyou for using my calculator\")"
   ]
  },
  {
   "cell_type": "markdown",
   "metadata": {},
   "source": [
    "### for loops"
   ]
  },
  {
   "cell_type": "code",
   "execution_count": 114,
   "metadata": {},
   "outputs": [
    {
     "name": "stdout",
     "output_type": "stream",
     "text": [
      "harry\n",
      "larry\n",
      "carry\n",
      "marry\n"
     ]
    }
   ],
   "source": [
    "\n",
    "list1 =[\"harry\",\"larry\",\"carry\",\"marry\"]\n",
    "for item in list1:\n",
    "    print(item)"
   ]
  },
  {
   "cell_type": "code",
   "execution_count": 117,
   "metadata": {},
   "outputs": [
    {
     "name": "stdout",
     "output_type": "stream",
     "text": [
      "harry and choclate is 1\n",
      "larry and choclate is 2\n",
      "carry and choclate is 3\n",
      "marry and choclate is 4\n"
     ]
    }
   ],
   "source": [
    "list1 =[[\"harry\",1],[\"larry\",2],[\"carry\",3],[\"marry\",4]]\n",
    "for item,choclate in list1:\n",
    "    print(item, \"and choclate is\", choclate)"
   ]
  },
  {
   "cell_type": "code",
   "execution_count": 118,
   "metadata": {},
   "outputs": [
    {
     "name": "stdout",
     "output_type": "stream",
     "text": [
      "harry and lollypop is 1\n",
      "larry and lollypop is 2\n",
      "carry and lollypop is 3\n",
      "marry and lollypop is 4\n"
     ]
    }
   ],
   "source": [
    "list1 =[[\"harry\",1],[\"larry\",2],[\"carry\",3],[\"marry\",4]]\n",
    "dict1 = dict(list1)\n",
    "for item,lollypop in list1: # if u change list1 to dict1 show error\n",
    "    print(item, \"and lollypop is\", lollypop)"
   ]
  },
  {
   "cell_type": "code",
   "execution_count": 120,
   "metadata": {},
   "outputs": [
    {
     "data": {
      "text/plain": [
       "dict"
      ]
     },
     "execution_count": 120,
     "metadata": {},
     "output_type": "execute_result"
    }
   ],
   "source": [
    "type(dict1)"
   ]
  },
  {
   "cell_type": "code",
   "execution_count": 121,
   "metadata": {},
   "outputs": [
    {
     "name": "stdout",
     "output_type": "stream",
     "text": [
      "harry and lollypop is 1\n",
      "larry and lollypop is 2\n",
      "carry and lollypop is 3\n",
      "marry and lollypop is 4\n"
     ]
    }
   ],
   "source": [
    "list1 =[[\"harry\",1],[\"larry\",2],[\"carry\",3],[\"marry\",4]]\n",
    "dict1 = dict(list1)\n",
    "for item,lollypop in dict1.items(): # but if u change list1 to dict1 with .items()\n",
    "    print(item, \"and lollypop is\", lollypop)"
   ]
  },
  {
   "cell_type": "code",
   "execution_count": 122,
   "metadata": {},
   "outputs": [
    {
     "name": "stdout",
     "output_type": "stream",
     "text": [
      "8\n",
      "10\n",
      "15\n"
     ]
    }
   ],
   "source": [
    "list2 = [\"happy\",6,8,10,\"sahil\",\"kalyan\",5,15]\n",
    "for item in list2:\n",
    "    if str(item).isnumeric() and item>6:\n",
    "        print(item)\n",
    "    "
   ]
  },
  {
   "cell_type": "markdown",
   "metadata": {},
   "source": [
    "### While loop"
   ]
  },
  {
   "cell_type": "code",
   "execution_count": 123,
   "metadata": {},
   "outputs": [
    {
     "name": "stdout",
     "output_type": "stream",
     "text": [
      "0\n",
      "1\n",
      "2\n",
      "3\n",
      "4\n"
     ]
    }
   ],
   "source": [
    "i=0\n",
    "while(i<5):\n",
    "    print(i)\n",
    "    i = i + 1"
   ]
  },
  {
   "cell_type": "markdown",
   "metadata": {},
   "source": [
    "### break & continue"
   ]
  },
  {
   "cell_type": "code",
   "execution_count": 127,
   "metadata": {},
   "outputs": [
    {
     "name": "stdout",
     "output_type": "stream",
     "text": [
      "0 1 2 3 4 5 "
     ]
    }
   ],
   "source": [
    "i=0\n",
    "while(True):\n",
    "    print(i, end=\" \")\n",
    "    if(i==5):\n",
    "        break # stop the loop\n",
    "    i = i + 1    "
   ]
  },
  {
   "cell_type": "code",
   "execution_count": 1,
   "metadata": {},
   "outputs": [
    {
     "name": "stdout",
     "output_type": "stream",
     "text": [
      "5 6 7 8 9 10 "
     ]
    }
   ],
   "source": [
    "i=0\n",
    "while(True): # while(1)- same thing\n",
    "    if i<5:\n",
    "        i = i+1\n",
    "        continue # cursor will go back from here when condition is true\n",
    "    print(i, end=\" \")\n",
    "    if(i==10):\n",
    "        break\n",
    "    i = i+1    "
   ]
  },
  {
   "cell_type": "code",
   "execution_count": 2,
   "metadata": {},
   "outputs": [
    {
     "name": "stdout",
     "output_type": "stream",
     "text": [
      "enter a number\n",
      "200\n",
      "congrats you have entered a number greater than 100\n",
      "\n"
     ]
    }
   ],
   "source": [
    "while(True):\n",
    "    inp = int(input(\"enter a number\\n\"))\n",
    "    if inp>100:\n",
    "        print(\"congrats you have entered a number greater than 100\\n\")\n",
    "        break\n",
    "    else:\n",
    "        print(\"try again!\\n\")\n",
    "        continue"
   ]
  },
  {
   "cell_type": "markdown",
   "metadata": {},
   "source": [
    "### ques3- no of guesses 9, print no of guesses left, no of guesses he took to complete, game over"
   ]
  },
  {
   "cell_type": "code",
   "execution_count": 3,
   "metadata": {},
   "outputs": [
    {
     "name": "stdout",
     "output_type": "stream",
     "text": [
      "guess the number20\n",
      "the number is lesser than this\n",
      "guess the number16\n",
      "the number is lesser than this\n",
      "guess the number10\n",
      "the number is greater than this\n",
      "guess the number15\n",
      "congrats you have guessed correct number\n"
     ]
    }
   ],
   "source": [
    "while(True):\n",
    "    num1 = int(input(\"guess the number\"))\n",
    "    if num1 == 15:\n",
    "        print(\"congrats you have guessed correct number\")\n",
    "        break\n",
    "    elif num1> 15:\n",
    "        print(\"the number is lesser than this\")\n",
    "    else:\n",
    "        print(\"the number is greater than this\")\n",
    "        continue\n",
    "\n",
    "        "
   ]
  },
  {
   "cell_type": "code",
   "execution_count": 4,
   "metadata": {},
   "outputs": [
    {
     "name": "stdout",
     "output_type": "stream",
     "text": [
      "Number of guesses is limited to 9 times: \n",
      "Guess the number:\n",
      "10\n",
      "you have entered less number plz enter greater number.\n",
      "\n",
      "8 no. of guesses left\n",
      "Guess the number:\n",
      "15\n",
      "you have entered less number plz enter greater number.\n",
      "\n",
      "7 no. of guesses left\n",
      "Guess the number:\n",
      "18\n",
      "you won\n",
      "\n",
      "3 no. of gusses he took to finish.\n"
     ]
    }
   ],
   "source": [
    "n=18\n",
    "number_of_guesses = 1\n",
    "print(\"Number of guesses is limited to 9 times: \")\n",
    "while(number_of_guesses<=9):\n",
    "    guess_number = int(input(\"Guess the number:\\n\"))\n",
    "    if guess_number<18:\n",
    "        print(\"you have entered less number plz enter greater number.\\n\")\n",
    "    elif guess_number>18:\n",
    "        print(\"you have entered greater number plz enter smaller number.\\n\")\n",
    "    else:\n",
    "        print(\"you won\\n\")\n",
    "        print(number_of_guesses,\"no. of gusses he took to finish.\")\n",
    "        break\n",
    "    print(9 - number_of_guesses, \"no. of guesses left\")\n",
    "    number_of_guesses = number_of_guesses +1\n",
    "if(number_of_guesses>9):\n",
    "    print(\"Game Over\")"
   ]
  },
  {
   "cell_type": "code",
   "execution_count": null,
   "metadata": {},
   "outputs": [],
   "source": [
    "# operators in python\n",
    "#1.arithmetic operators -  +,-,/,*\n",
    "#2. assignment operator-  =, +=\n",
    "#3. comparison -  ==, >=,=<\n",
    "#4. logical -   and, or\n",
    "#5. identity -   is, is not\n",
    "#6. membership - in, not in\n",
    "#7. bitwise - 0-00, 1-01, 2-10"
   ]
  },
  {
   "cell_type": "code",
   "execution_count": 5,
   "metadata": {},
   "outputs": [
    {
     "name": "stdout",
     "output_type": "stream",
     "text": [
      "enter a\n",
      "20\n",
      "enter b\n",
      "10\n",
      "A is greater than B\n"
     ]
    }
   ],
   "source": [
    "# short hand if\n",
    "a = int (input(\"enter a\\n\"))\n",
    "b = int (input(\"enter b\\n\"))\n",
    "if a>b: print(\"A is greater than B\")\n"
   ]
  },
  {
   "cell_type": "markdown",
   "metadata": {},
   "source": [
    "### functions"
   ]
  },
  {
   "cell_type": "code",
   "execution_count": 6,
   "metadata": {},
   "outputs": [
    {
     "name": "stdout",
     "output_type": "stream",
     "text": [
      "13\n"
     ]
    }
   ],
   "source": [
    "a = 5\n",
    "b = 8\n",
    "c = sum((a,b)) # built in function\n",
    "print(c)"
   ]
  },
  {
   "cell_type": "code",
   "execution_count": 7,
   "metadata": {},
   "outputs": [
    {
     "name": "stdout",
     "output_type": "stream",
     "text": [
      "hello you are in function 1\n",
      "None\n"
     ]
    }
   ],
   "source": [
    "def function1():\n",
    "    print(\"hello you are in function 1\")\n",
    "print(function1())    "
   ]
  },
  {
   "cell_type": "code",
   "execution_count": 9,
   "metadata": {},
   "outputs": [
    {
     "name": "stdout",
     "output_type": "stream",
     "text": [
      "hello you are in function1 12\n"
     ]
    }
   ],
   "source": [
    "def function1(a, b):\n",
    "    print(\"hello you are in function1\", a+b)\n",
    "function1(5,7)"
   ]
  },
  {
   "cell_type": "code",
   "execution_count": 10,
   "metadata": {},
   "outputs": [
    {
     "name": "stdout",
     "output_type": "stream",
     "text": [
      "6.0\n"
     ]
    }
   ],
   "source": [
    "def function2(a,b):\n",
    "    average = (a+b)/2\n",
    "    print(average)\n",
    "function2(5,7)    "
   ]
  },
  {
   "cell_type": "code",
   "execution_count": 6,
   "metadata": {},
   "outputs": [
    {
     "name": "stdout",
     "output_type": "stream",
     "text": [
      "6.0\n",
      "None\n"
     ]
    }
   ],
   "source": [
    "def function2(a,b):\n",
    "    average = (a+b)/2\n",
    "    print(average)\n",
    "v = function2(5,7)\n",
    "print(v)"
   ]
  },
  {
   "cell_type": "code",
   "execution_count": 12,
   "metadata": {},
   "outputs": [
    {
     "name": "stdout",
     "output_type": "stream",
     "text": [
      "6.0\n",
      "6.0\n"
     ]
    }
   ],
   "source": [
    "def function2(a,b):\n",
    "    average = (a+b)/2\n",
    "    print(average)\n",
    "    return average\n",
    "v = function2(5,7)\n",
    "print(v)"
   ]
  },
  {
   "cell_type": "code",
   "execution_count": 13,
   "metadata": {},
   "outputs": [
    {
     "name": "stdout",
     "output_type": "stream",
     "text": [
      "6.0\n"
     ]
    }
   ],
   "source": [
    "def function2(a,b):\n",
    "    average = (a+b)/2\n",
    "    #print(average)\n",
    "    return average\n",
    "v = function2(5,7)\n",
    "print(v)"
   ]
  },
  {
   "cell_type": "code",
   "execution_count": 15,
   "metadata": {},
   "outputs": [
    {
     "name": "stdout",
     "output_type": "stream",
     "text": [
      "this is a function which will calculate average\n",
      "6.0\n"
     ]
    }
   ],
   "source": [
    "def function2(a,b):\n",
    "    \"\"\"this is a function which will calculate average\"\"\"\n",
    "    average = (a+b)/2\n",
    "    #print(average)\n",
    "    return average\n",
    "#v = function2(5,7)\n",
    "#print(v)\n",
    "print(function2.__doc__ )\n",
    "print(v)"
   ]
  },
  {
   "cell_type": "markdown",
   "metadata": {},
   "source": [
    "### try except exception handling"
   ]
  },
  {
   "cell_type": "code",
   "execution_count": 13,
   "metadata": {},
   "outputs": [
    {
     "name": "stdout",
     "output_type": "stream",
     "text": [
      "enter num1\n",
      "5\n",
      "enter num2\n",
      "6\n",
      "the sum of these two numbers is 11\n"
     ]
    }
   ],
   "source": [
    "print(\"enter num1\")\n",
    "num1 = int(input()) \n",
    "print(\"enter num2\")\n",
    "num2 = int(input())\n",
    "print(\"the sum of these two numbers is\", num1+num2)"
   ]
  },
  {
   "cell_type": "code",
   "execution_count": 17,
   "metadata": {},
   "outputs": [
    {
     "name": "stdout",
     "output_type": "stream",
     "text": [
      "enter num1\n",
      "sg\n",
      "you entered wrong input invalid literal for int() with base 10: 'sg'\n",
      "enter num1\n",
      "5\n",
      "enter num2\n",
      "5\n",
      "the sum = 10\n",
      "thankyou! for your correct input\n"
     ]
    }
   ],
   "source": [
    "while (True):\n",
    "    try:\n",
    "        print(\"enter num1\")\n",
    "        num1 = int(input())\n",
    "        print(\"enter num2\")\n",
    "        num2 = int(input())\n",
    "        print(\"the sum =\", num1+num2)\n",
    "        break\n",
    "    except Exception as e: ## if our code fail it not show error it's going to print exception\n",
    "        print(\"you entered wrong input\",e)\n",
    "print(\"thankyou! for your correct input\")        "
   ]
  },
  {
   "cell_type": "code",
   "execution_count": null,
   "metadata": {},
   "outputs": [],
   "source": [
    "# File IO basics\n",
    "\"\"\"\n",
    "\"r\" - open file for reading\n",
    "\"w\" - open file for writing\n",
    "\"x\" - creates file if not exist\n",
    "\"a\" - add more content to a file\n",
    "\"t\" - text mode\n",
    "\"b\" - binary mode\n",
    "\"+\" - update read and write both\n",
    "\"\"\""
   ]
  },
  {
   "cell_type": "code",
   "execution_count": null,
   "metadata": {},
   "outputs": [],
   "source": [
    "# Open(),Read(), and Readline()\n",
    "\n",
    "f= open(\"harry.txt\")\n",
    "content = f.read()\n",
    "print(content)\n",
    "f.close()"
   ]
  },
  {
   "cell_type": "code",
   "execution_count": null,
   "metadata": {},
   "outputs": [],
   "source": [
    "f= open(\"harry.txt\",\"r\") #r - default, rt -read text, rb - read binary\n",
    "content = f.read()   #(3) if i write 3 then its read 3 character\n",
    "print(content)\n",
    "f.close()"
   ]
  },
  {
   "cell_type": "code",
   "execution_count": null,
   "metadata": {},
   "outputs": [],
   "source": [
    "f= open(\"harry.txt\",\"rt\")\n",
    "print(f.readline()) # read line by line"
   ]
  },
  {
   "cell_type": "code",
   "execution_count": null,
   "metadata": {},
   "outputs": [],
   "source": [
    "# writing and appending\n",
    "f = open(\"harry.txt\", \"w\")\n",
    "f.write(\"harry bhai bahut acche hai\")\n",
    "f.close()\n",
    "\n",
    "# append\n",
    "f = open(\"harry.txt\", \"a\")\n",
    "f.write(\"harry bhai bahut acche hai\")\n",
    "f.close()\n",
    "\n",
    "# read and write both\n",
    "f = open(\"harry2.txt\", \"r+\")\n",
    "print(f.read())\n",
    "f.write(\"thank you\")"
   ]
  },
  {
   "cell_type": "markdown",
   "metadata": {},
   "source": [
    "### ques4-print pattern, input = integer n, boolean = True or False"
   ]
  },
  {
   "cell_type": "code",
   "execution_count": 1,
   "metadata": {
    "scrolled": true
   },
   "outputs": [
    {
     "name": "stdout",
     "output_type": "stream",
     "text": [
      "how many rows you want to print\n",
      "4\n",
      "type 1 or 0\n",
      "1\n",
      "* \n",
      "* * \n",
      "* * * \n",
      "* * * * \n"
     ]
    }
   ],
   "source": [
    "print(\"how many rows you want to print\")\n",
    "num1 = int(input())\n",
    "print(\"type 1 or 0\")\n",
    "num2 = int(input())\n",
    "new = bool(num2)\n",
    "if new == True:\n",
    "    for i in range(1, num1+1):\n",
    "        for j in range(1,i+1):\n",
    "            print(\"*\", end=\" \")\n",
    "        print()   #print nothing used for to provide gap\n",
    "elif new == False:\n",
    "    for i in range(num1,0,-1):\n",
    "        for j in range(1,i+1):\n",
    "            print(\"*\",end=\" \")\n",
    "        print()    "
   ]
  },
  {
   "cell_type": "code",
   "execution_count": 2,
   "metadata": {},
   "outputs": [
    {
     "name": "stdout",
     "output_type": "stream",
     "text": [
      "how many rows you want to print\n",
      "4\n",
      "type 1 or 0\n",
      "0\n",
      "* * * * \n",
      "* * * \n",
      "* * \n",
      "* \n"
     ]
    }
   ],
   "source": [
    "print(\"how many rows you want to print\")\n",
    "num1 = int(input())\n",
    "print(\"type 1 or 0\")\n",
    "num2 = int(input())\n",
    "new = bool(num2)\n",
    "if new == True:\n",
    "    for i in range(1, num1+1):\n",
    "        for j in range(1,i+1):\n",
    "            print(\"*\", end=\" \")\n",
    "        print()   #print nothing used for to provide gap\n",
    "elif new == False:\n",
    "    for i in range(num1,0,-1):\n",
    "        for j in range(1,i+1):\n",
    "            print(\"*\",end=\" \")\n",
    "        print()    "
   ]
  },
  {
   "cell_type": "code",
   "execution_count": 5,
   "metadata": {},
   "outputs": [
    {
     "name": "stdout",
     "output_type": "stream",
     "text": [
      "pattern printing\n",
      "enter how many rows you want: 5\n",
      "enter 1 or 0\n",
      "1 for true value or 0 for false: 0\n",
      "*****\n",
      "****\n",
      "***\n",
      "**\n",
      "*\n"
     ]
    }
   ],
   "source": [
    "print(\"pattern printing\")\n",
    "num = int(input(\"enter how many rows you want: \"))\n",
    "print(\"enter 1 or 0\")\n",
    "bool_value = input(\"1 for true value or 0 for false: \")\n",
    "if bool_value==\"1\":\n",
    "    for i in range(0,num+1):\n",
    "        print(\"*\"*int(i))\n",
    "if bool_value==\"0\":\n",
    "    for i in range(num,0,-1):\n",
    "        print(\"*\"*int(i))"
   ]
  },
  {
   "cell_type": "markdown",
   "metadata": {},
   "source": [
    "### Seek(), tell() "
   ]
  },
  {
   "cell_type": "code",
   "execution_count": null,
   "metadata": {},
   "outputs": [],
   "source": [
    "f = open(\"harry.txt\")\n",
    "print(f.tell()) # tells where is the pointer position\n",
    "print(f.readline()) # read line by line\n",
    "print(f.tell())\n",
    "\n",
    "f.seek(10) #reset the pointer from where u want to read the file\n"
   ]
  },
  {
   "cell_type": "code",
   "execution_count": null,
   "metadata": {},
   "outputs": [],
   "source": [
    "# using with block to open files\n",
    "\n",
    "f = open(\"harry.txt\", \"rt\") #rt default rhta likho ya na likho\n",
    "print(f.readlines())\n",
    "print(f.readline())\n",
    "\n",
    "# using \"with\" block to open files\n",
    "with open(\"harry.txt\") as f:\n",
    "    a = f.read(4) # read 4 character, here we dont need to close block fun close by themselves\n",
    "    print(a)\n"
   ]
  },
  {
   "cell_type": "markdown",
   "metadata": {},
   "source": [
    "### ques5- health management system, 3 clients harry, rohan hammad\n",
    "### total 6 file, write a function that when executed takes as input client names\n",
    "### one more functuion to retrieve exercise or food for any client\n",
    "*def getdate():\n",
    "\n",
    "    import datetime\n",
    "    \n",
    "    return datetime.datetime.now()"
   ]
  },
  {
   "cell_type": "code",
   "execution_count": 19,
   "metadata": {},
   "outputs": [],
   "source": [
    "import datetime\n",
    "def gettime():\n",
    "    return datetime.datetime.now()\n",
    "def take(k):\n",
    "    if k==1:\n",
    "        c=int(input(\"enter 1 for exercise and 2 for diet\"))\n",
    "        if c==1:\n",
    "            value=input(\"type here\\n\")\n",
    "            with open(\"harry_ex.txt\",\"a\") as op:\n",
    "                op.write(str([str(gettime())])+\":\"+value+\"\\n\")\n",
    "                print(\"Successfully written\")\n",
    "        elif c==2:\n",
    "            value=input(\"type here\\n\")\n",
    "            with open(\"harry_diet.txt\",\"a\") as op:\n",
    "                op.write(str([str(gettime())])+\":\"+value+\"\\n\")\n",
    "                print(\"Successfully written\")\n",
    "                \n",
    "    elif(k==2):\n",
    "        c=int(input(\"enter 1 for exercise and 2 for diet\"))\n",
    "        if c==1:\n",
    "            value=input(\"type here\\n\")\n",
    "            with open(\"rohan_ex.txt\",\"a\") as op:\n",
    "                op.write(str([str(gettime())])+\":\"+value+\"\\n\")\n",
    "                print(\"Successfully written\")\n",
    "        \n",
    "          \n",
    "        elif c==2:\n",
    "            value=input(\"type here\\n\")\n",
    "            with open(\"rohan_diet.txt\",\"a\") as op:\n",
    "                op.write(str([str(gettime())])+\":\"+value+\"\\n\")\n",
    "                print(\"Successfully written\")\n",
    "                \n",
    "            \n",
    "    \n",
    "    elif(k==3):\n",
    "        c=int(input(\"enter 1 for exercise and 2 for diet\"))\n",
    "        if c==1:\n",
    "            value=input(\"type here\\n\")\n",
    "            with open(\"hammad_ex.txt\",\"a\") as op:\n",
    "                op.write(str([str(gettime())])+\":\"+value+\"\\n\")\n",
    "                print(\"Successfully written\")      \n",
    "                \n",
    "        elif c==2:\n",
    "            value=input(\"type here\\n\")\n",
    "            with open(\"hammad_diet.txt\",\"a\") as op:\n",
    "                op.write(str([str(gettime())])+\":\"+value+\"\\n\")\n",
    "                print(\"Successfully written\")\n",
    "    else:\n",
    "        print(\"Please enter valid input(1(Harry), 2(Rohan), 3(Hammad)\")\n",
    "        \n",
    "def retrieve(k):\n",
    "    if k==1:\n",
    "        c=int(input(\"Enter 1 for exercise and 2 for diet\"))\n",
    "        if(c==1):\n",
    "            with open(\"harry_ex.txt\") as op:\n",
    "                for i in op:\n",
    "                    print(i,end=\"\")\n",
    "        elif(c==2):\n",
    "            with open(\"harry_diet.txt\") as op:\n",
    "                for i in op:\n",
    "                    print(i,end=\"\")\n",
    "                        \n",
    "    elif k==2:\n",
    "        c=int(input(\"Enter 1 for exercise and 2 for diet\"))\n",
    "        if(c==1):\n",
    "            with open(\"rohan_ex.txt\") as op:\n",
    "                for i in op:\n",
    "                    print(i,end=\"\")\n",
    "        elif(c==2):\n",
    "            with open(\"rohan_diet.txt\") as op:\n",
    "                for i in op:\n",
    "                    print(i,end=\"\")\n",
    "                        \n",
    "        elif k==3:\n",
    "            c=int(input(\"Enter 1 for exercise and 2 for diet\"))\n",
    "            if(c==1):\n",
    "                with open(\"hammad_ex.txt\") as op:\n",
    "                    for i in op:\n",
    "                        print(i,end=\"\")\n",
    "            elif(c==2):\n",
    "                with open(\"hammad_diet.txt\") as op:\n",
    "                    for i in op:\n",
    "                        print(i,end=\"\")                \n",
    "                    \n",
    "        else:\n",
    "            print(\"Please enter valid input(Harry,Rohan,Hammad)\")\n",
    "            print(\"Health Management System: \")\n",
    "            a=int(input(\"Press 1 for log the value and 2 for retrieve\"))\n",
    "            if a==1:\n",
    "                b= int(input(\"Press 1 for harry 2 for rohan 3 for hammad\"))\n",
    "                take(b)\n",
    "            else:\n",
    "                b= int(input(\"Press 1 for harry 2 for rohan 3 for hammad\"))\n",
    "                retrieve(b)\n",
    "                \n",
    "                \n",
    "            "
   ]
  },
  {
   "cell_type": "code",
   "execution_count": 23,
   "metadata": {},
   "outputs": [
    {
     "name": "stdout",
     "output_type": "stream",
     "text": [
      "5 8\n",
      "this is me I have printed\n"
     ]
    }
   ],
   "source": [
    "# scope, global variables and global keyword\n",
    "\n",
    "l = 10 # global\n",
    "def function1(n):\n",
    "    l=5 #local # u can change local easily \n",
    "    m=8\n",
    "    print(l, m)\n",
    "    print(n, \"I have printed\")\n",
    "    \n",
    "function1(\"this is me\")\n"
   ]
  },
  {
   "cell_type": "code",
   "execution_count": 6,
   "metadata": {},
   "outputs": [
    {
     "name": "stdout",
     "output_type": "stream",
     "text": [
      "55 8\n",
      "this is me I have printed\n"
     ]
    }
   ],
   "source": [
    "l = 10 # global\n",
    "def function1(n):\n",
    "    #l=5 #local\n",
    "    m=8\n",
    "    global l      # to change global we have to write global l\n",
    "    l = l + 45\n",
    "    print(l, m)\n",
    "    print(n, \"I have printed\")\n",
    "    \n",
    "function1(\"this is me\")"
   ]
  },
  {
   "cell_type": "code",
   "execution_count": 7,
   "metadata": {},
   "outputs": [
    {
     "name": "stdout",
     "output_type": "stream",
     "text": [
      "before calling rohan() 20\n",
      "after calling rohan() 20\n",
      "88\n"
     ]
    }
   ],
   "source": [
    "def harry():\n",
    "    x = 20\n",
    "    def rohan():\n",
    "        global x\n",
    "        x = 88\n",
    "    print(\"before calling rohan()\", x)\n",
    "    rohan()\n",
    "    print(\"after calling rohan()\", x)\n",
    "harry()\n",
    "print(x) # first check upper one if not present then make 88 global"
   ]
  },
  {
   "cell_type": "code",
   "execution_count": 8,
   "metadata": {},
   "outputs": [
    {
     "name": "stdout",
     "output_type": "stream",
     "text": [
      "before calling rohan() 20\n",
      "after calling rohan() 20\n",
      "88\n"
     ]
    }
   ],
   "source": [
    "x=89   # sbse phle 89 hua fr harry func run hua jisme local value 20 h, \n",
    "             #fr rohan func run hua to global x ki value ko 88 kr diya\n",
    "def harry():     # isyle x ki global vale bhi 88 ho chuki h \n",
    "                 #ab after calling me x ki value 20 h to 20 print ho jyga aur uske bad\n",
    "                    # 88 print ho jyga\n",
    "    x = 20                       ### nested function\n",
    "    def rohan():\n",
    "        global x\n",
    "        x = 88\n",
    "    print(\"before calling rohan()\", x)\n",
    "    rohan()\n",
    "    print(\"after calling rohan()\", x)\n",
    "harry()\n",
    "print(x)"
   ]
  },
  {
   "cell_type": "code",
   "execution_count": 2,
   "metadata": {},
   "outputs": [
    {
     "name": "stdout",
     "output_type": "stream",
     "text": [
      "This isharry\n"
     ]
    }
   ],
   "source": [
    "#Recursions:Iterative vs recursive approach ## recursion mean function inside function \n",
    "\n",
    "def print2(strl):\n",
    "    print(\"This is\" + strl)\n",
    "print2(\"harry\")\n"
   ]
  },
  {
   "cell_type": "code",
   "execution_count": 9,
   "metadata": {},
   "outputs": [
    {
     "ename": "RecursionError",
     "evalue": "maximum recursion depth exceeded",
     "output_type": "error",
     "traceback": [
      "\u001b[1;31m---------------------------------------------------------------------------\u001b[0m",
      "\u001b[1;31mRecursionError\u001b[0m                            Traceback (most recent call last)",
      "\u001b[1;32m<ipython-input-9-35ce5cc5a957>\u001b[0m in \u001b[0;36m<module>\u001b[1;34m\u001b[0m\n\u001b[0;32m      2\u001b[0m     \u001b[0mprint2\u001b[0m\u001b[1;33m(\u001b[0m\u001b[0mstrl\u001b[0m\u001b[1;33m)\u001b[0m  \u001b[1;31m# recursion chlta jyga kyuki kahi stop nhi kiya recursion error\u001b[0m\u001b[1;33m\u001b[0m\u001b[1;33m\u001b[0m\u001b[0m\n\u001b[0;32m      3\u001b[0m     \u001b[0mprint\u001b[0m\u001b[1;33m(\u001b[0m\u001b[1;34m\"This is\"\u001b[0m \u001b[1;33m+\u001b[0m \u001b[0mstrl\u001b[0m\u001b[1;33m)\u001b[0m\u001b[1;33m\u001b[0m\u001b[1;33m\u001b[0m\u001b[0m\n\u001b[1;32m----> 4\u001b[1;33m \u001b[0mprint2\u001b[0m\u001b[1;33m(\u001b[0m\u001b[1;34m\"harry\"\u001b[0m\u001b[1;33m)\u001b[0m\u001b[1;33m\u001b[0m\u001b[1;33m\u001b[0m\u001b[0m\n\u001b[0m",
      "\u001b[1;32m<ipython-input-9-35ce5cc5a957>\u001b[0m in \u001b[0;36mprint2\u001b[1;34m(strl)\u001b[0m\n\u001b[0;32m      1\u001b[0m \u001b[1;32mdef\u001b[0m \u001b[0mprint2\u001b[0m\u001b[1;33m(\u001b[0m\u001b[0mstrl\u001b[0m\u001b[1;33m)\u001b[0m\u001b[1;33m:\u001b[0m\u001b[1;33m\u001b[0m\u001b[1;33m\u001b[0m\u001b[0m\n\u001b[1;32m----> 2\u001b[1;33m     \u001b[0mprint2\u001b[0m\u001b[1;33m(\u001b[0m\u001b[0mstrl\u001b[0m\u001b[1;33m)\u001b[0m  \u001b[1;31m# recursion chlta jyga kyuki kahi stop nhi kiya recursion error\u001b[0m\u001b[1;33m\u001b[0m\u001b[1;33m\u001b[0m\u001b[0m\n\u001b[0m\u001b[0;32m      3\u001b[0m     \u001b[0mprint\u001b[0m\u001b[1;33m(\u001b[0m\u001b[1;34m\"This is\"\u001b[0m \u001b[1;33m+\u001b[0m \u001b[0mstrl\u001b[0m\u001b[1;33m)\u001b[0m\u001b[1;33m\u001b[0m\u001b[1;33m\u001b[0m\u001b[0m\n\u001b[0;32m      4\u001b[0m \u001b[0mprint2\u001b[0m\u001b[1;33m(\u001b[0m\u001b[1;34m\"harry\"\u001b[0m\u001b[1;33m)\u001b[0m\u001b[1;33m\u001b[0m\u001b[1;33m\u001b[0m\u001b[0m\n",
      "... last 1 frames repeated, from the frame below ...\n",
      "\u001b[1;32m<ipython-input-9-35ce5cc5a957>\u001b[0m in \u001b[0;36mprint2\u001b[1;34m(strl)\u001b[0m\n\u001b[0;32m      1\u001b[0m \u001b[1;32mdef\u001b[0m \u001b[0mprint2\u001b[0m\u001b[1;33m(\u001b[0m\u001b[0mstrl\u001b[0m\u001b[1;33m)\u001b[0m\u001b[1;33m:\u001b[0m\u001b[1;33m\u001b[0m\u001b[1;33m\u001b[0m\u001b[0m\n\u001b[1;32m----> 2\u001b[1;33m     \u001b[0mprint2\u001b[0m\u001b[1;33m(\u001b[0m\u001b[0mstrl\u001b[0m\u001b[1;33m)\u001b[0m  \u001b[1;31m# recursion chlta jyga kyuki kahi stop nhi kiya recursion error\u001b[0m\u001b[1;33m\u001b[0m\u001b[1;33m\u001b[0m\u001b[0m\n\u001b[0m\u001b[0;32m      3\u001b[0m     \u001b[0mprint\u001b[0m\u001b[1;33m(\u001b[0m\u001b[1;34m\"This is\"\u001b[0m \u001b[1;33m+\u001b[0m \u001b[0mstrl\u001b[0m\u001b[1;33m)\u001b[0m\u001b[1;33m\u001b[0m\u001b[1;33m\u001b[0m\u001b[0m\n\u001b[0;32m      4\u001b[0m \u001b[0mprint2\u001b[0m\u001b[1;33m(\u001b[0m\u001b[1;34m\"harry\"\u001b[0m\u001b[1;33m)\u001b[0m\u001b[1;33m\u001b[0m\u001b[1;33m\u001b[0m\u001b[0m\n",
      "\u001b[1;31mRecursionError\u001b[0m: maximum recursion depth exceeded"
     ]
    }
   ],
   "source": [
    "def print2(strl):\n",
    "    print2(strl)  # recursion chlta jyga kyuki kahi stop nhi kiya recursion error\n",
    "    print(\"This is\" + strl)\n",
    "print2(\"harry\")"
   ]
  },
  {
   "cell_type": "code",
   "execution_count": 12,
   "metadata": {},
   "outputs": [
    {
     "name": "stdout",
     "output_type": "stream",
     "text": [
      "Enter the number5\n",
      "120\n"
     ]
    }
   ],
   "source": [
    "# n! = n * n-1* n-2 * n-3.....1\n",
    "# n! = n*(n-1)!\n",
    "def factorial(n): # ye iterative h recurvise nhi\n",
    "    fac = 1\n",
    "    for i in range(n):\n",
    "        fac = fac * (i+1)\n",
    "    return fac\n",
    "    \n",
    "number = int(input(\"Enter the number\"))\n",
    "print(factorial(number))\n",
    "        \n",
    "    \n",
    "    \n"
   ]
  },
  {
   "cell_type": "code",
   "execution_count": 13,
   "metadata": {},
   "outputs": [
    {
     "name": "stdout",
     "output_type": "stream",
     "text": [
      "Enter the number5\n",
      "factorial using recursive method 120\n"
     ]
    }
   ],
   "source": [
    "def factorial_recursive(n): \n",
    "    if n==1:\n",
    "        return 1\n",
    "    else:\n",
    "        return n * factorial_recursive(n-1)\n",
    "    \n",
    "number = int(input(\"Enter the number\"))\n",
    "print(\"factorial using recursive method\", factorial_recursive(number))"
   ]
  },
  {
   "cell_type": "code",
   "execution_count": 15,
   "metadata": {},
   "outputs": [
    {
     "name": "stdout",
     "output_type": "stream",
     "text": [
      "Enter the number7\n",
      "8\n"
     ]
    }
   ],
   "source": [
    "#fibonacci series\n",
    "def fibonacci(n):\n",
    "    if n==1:\n",
    "        return 0\n",
    "    elif n==2:\n",
    "        return 1\n",
    "    else:\n",
    "        return fibonacci(n-1)+ fibonacci(n-2)\n",
    "number = int(input(\"Enter the number\"))\n",
    "print(fibonacci(number))\n",
    "    "
   ]
  },
  {
   "cell_type": "code",
   "execution_count": 17,
   "metadata": {},
   "outputs": [
    {
     "name": "stdout",
     "output_type": "stream",
     "text": [
      "13\n"
     ]
    }
   ],
   "source": [
    "#lambda function or anonymous fuctions\n",
    "#def add(a,b):\n",
    "    #retuen a+b  # ye dono same baat h\n",
    "    \n",
    "add = lambda x,y:x+y\n",
    "print(add(9,4))\n"
   ]
  },
  {
   "cell_type": "code",
   "execution_count": 20,
   "metadata": {},
   "outputs": [
    {
     "name": "stdout",
     "output_type": "stream",
     "text": [
      "1\n"
     ]
    }
   ],
   "source": [
    "# using python external & built in modules\n",
    "import random\n",
    "random_number = random.randint(0,5) # google random functions\n",
    "print(random_number)"
   ]
  },
  {
   "cell_type": "code",
   "execution_count": 26,
   "metadata": {},
   "outputs": [
    {
     "name": "stdout",
     "output_type": "stream",
     "text": [
      "this is Harry 3\n"
     ]
    }
   ],
   "source": [
    "# F-strings& string format\n",
    "me= \"Harry\"\n",
    "a1= 3\n",
    "a = f\"this is {me} {a1}\"\n",
    "print(a)"
   ]
  },
  {
   "cell_type": "code",
   "execution_count": 28,
   "metadata": {},
   "outputs": [
    {
     "name": "stdout",
     "output_type": "stream",
     "text": [
      "enter your choice: \n",
      "water\n",
      "gun\n",
      "you won\n"
     ]
    }
   ],
   "source": [
    "# Q6- snake water gun\n",
    "import random\n",
    "var1 = [\"snake\",\"gun\",\"water\"]\n",
    "random_number = random.choice(var1)\n",
    "print(\"enter your choice: \")\n",
    "var2 = str(input())\n",
    "print(random_number)\n",
    "\n",
    "if var2==\"snake\":\n",
    "    if random_number==\"snake\":\n",
    "        print(\"match is draw\")\n",
    "    elif random_number==\"gun\":\n",
    "        print(\"computer won\")\n",
    "    elif random_number==\"water\":\n",
    "        print(\"you won\")\n",
    "if var2==\"gun\":\n",
    "    if random_number==\"gun\":\n",
    "        print(\"match is draw\")\n",
    "    elif random_number==\"water\":\n",
    "        print(\"computer won\")\n",
    "    elif random_number==\"snake\":\n",
    "        print(\"you won\")\n",
    "if var2==\"water\":\n",
    "    if random_number==\"water\":\n",
    "        print(\"match is draw\")\n",
    "    elif random_number==\"snake\":\n",
    "        print(\"computer won\")\n",
    "    elif random_number==\"gun\":\n",
    "        print(\"you won\")\n",
    "else:\n",
    "    print(\"game over!!!\")\n"
   ]
  },
  {
   "cell_type": "code",
   "execution_count": 1,
   "metadata": {},
   "outputs": [
    {
     "name": "stdout",
     "output_type": "stream",
     "text": [
      "\t\t\t\t Snake,Water,Gun Game\n",
      " \n",
      "\n",
      "s for snake \n",
      "w for water \n",
      "g for gun\n",
      "Snake,Water,Gun:s\n",
      "your guess s and computer is w \n",
      "\n",
      "humans wins 1 point \n",
      "\n",
      "computer_point is 0 and your point is 1 \n",
      "\n",
      "4 is left out of 5 \n",
      "\n",
      "Snake,Water,Gun:g\n",
      "tie both 0 point to each \n",
      "\n",
      "3 is left out of 5 \n",
      "\n",
      "Snake,Water,Gun:w\n",
      "your guess w and computer is g \n",
      "\n",
      "humans wins 1 point \n",
      "\n",
      "computer_point is 0 and your point is 2 \n",
      "\n",
      "2 is left out of 5 \n",
      "\n",
      "Snake,Water,Gun:w\n",
      "your guess w and computer is g \n",
      "\n",
      "humans wins 1 point \n",
      "\n",
      "computer_point is 0 and your point is 3 \n",
      "\n",
      "1 is left out of 5 \n",
      "\n",
      "Snake,Water,Gun:g\n",
      "your guess g and computer guess is s \n",
      "\n",
      "computer wins 1 point \n",
      "\n",
      "computer_point is 1 and your point is 3 \n",
      "\n",
      "0 is left out of 5 \n",
      "\n",
      "Game Over\n",
      "you win and computer loose\n",
      "your point is 3 and computer point is 1\n"
     ]
    }
   ],
   "source": [
    "import random\n",
    "list = [\"s\",\"w\",\"g\"]\n",
    "\n",
    "chance = 5\n",
    "no_of_chance = 0\n",
    "computer_point = 0\n",
    "human_point = 0\n",
    "\n",
    "print(\"\\t\\t\\t\\t Snake,Water,Gun Game\\n \\n\")\n",
    "print(\"s for snake \\nw for water \\ng for gun\")\n",
    "\n",
    "#making the game in while\n",
    "while no_of_chance < chance:\n",
    "    _input = input(\"Snake,Water,Gun:\")\n",
    "    _random = random.choice(list)\n",
    "    \n",
    "    if _input == _random:\n",
    "        print(\"tie both 0 point to each \\n\")\n",
    "        \n",
    "        # if user enter s\n",
    "    elif _input == \"s\" and _random == \"g\":\n",
    "        computer_point = computer_point + 1\n",
    "        print(f\"your guess {_input} and computer guess is {_random} \\n\")\n",
    "        print(\"computer wins 1 point \\n\")\n",
    "        print(f\"computer_point is {computer_point} and your point is {human_point} \\n\")\n",
    "        \n",
    "    elif _input == \"s\" and _random == \"w\":\n",
    "        human_point = human_point +1\n",
    "        print(f\"your guess {_input} and computer is {_random} \\n\")\n",
    "        print(\"humans wins 1 point \\n\")\n",
    "        print(f\"computer_point is {computer_point} and your point is {human_point} \\n\")\n",
    "    \n",
    "       # if user enter w\n",
    "    elif _input == \"w\" and _random == \"s\":\n",
    "        computer_point = computer_point + 1\n",
    "        print(f\"your guess (_input) and computer guess is (_random) \\n\")\n",
    "        print(\"computer wins 1 point \\n\")\n",
    "        print(f\"computer_point is (computer_point) and your point is (human_point) \\n\")\n",
    "        \n",
    "    elif _input == \"w\" and _random == \"g\":\n",
    "        human_point = human_point +1\n",
    "        print(f\"your guess {_input} and computer is {_random} \\n\")\n",
    "        print(\"humans wins 1 point \\n\")\n",
    "        print(f\"computer_point is {computer_point} and your point is {human_point} \\n\")\n",
    "              \n",
    "         # if user enter g\n",
    "    elif _input == \"g\" and _random == \"s\":\n",
    "        computer_point = computer_point + 1\n",
    "        print(f\"your guess {_input} and computer guess is {_random} \\n\")\n",
    "        print(\"computer wins 1 point \\n\")\n",
    "        print(f\"computer_point is {computer_point} and your point is {human_point} \\n\")\n",
    "        \n",
    "    elif _input == \"g\" and _random == \"w\":\n",
    "        human_point = human_point +1\n",
    "        print(f\"your guess {_input} and computer is {_random} \\n\")\n",
    "        print(\"humans wins 1 point \\n\")\n",
    "        print(f\"computer_point is {computer_point} and your point is {human_point} \\n\")\n",
    "              \n",
    "    else:\n",
    "              print(\"you have input wrong \\n\")\n",
    "              \n",
    "    no_of_chance = no_of_chance + 1\n",
    "    print(f\"{chance - no_of_chance} is left out of {chance} \\n\")\n",
    "print(\"Game Over\")\n",
    "              \n",
    "if computer_point > human_point:\n",
    "              print(\"computer wins and you loose\")\n",
    "if computer_point < human_point:\n",
    "              print(\"you win and computer loose\")\n",
    "              \n",
    "print(f\"your point is {human_point} and computer point is {computer_point}\")    "
   ]
  },
  {
   "cell_type": "code",
   "execution_count": 2,
   "metadata": {},
   "outputs": [
    {
     "name": "stdout",
     "output_type": "stream",
     "text": [
      "harry carry marry jerry\n"
     ]
    }
   ],
   "source": [
    "#args and kwargs\n",
    "def function_name_print(a,b,c,d):\n",
    "    print(a,b,c,d)\n",
    "function_name_print(\"harry\",\"carry\",\"marry\",\"jerry\") # agr isme aur add krna ho to fr e likho fr add kro "
   ]
  },
  {
   "cell_type": "code",
   "execution_count": 4,
   "metadata": {},
   "outputs": [
    {
     "name": "stdout",
     "output_type": "stream",
     "text": [
      "harry\n",
      "rohan\n",
      "suraj\n",
      "sahil\n",
      "happy\n"
     ]
    }
   ],
   "source": [
    "def funargs(*args):  # tuple me rhta h ye print(type(*args))\n",
    "    for item in args:\n",
    "        print(item)\n",
    "har = [\"harry\",\"rohan\",\"suraj\",\"sahil\",\"happy\"] # ab aram se add krte raho\n",
    "funargs(*har)"
   ]
  },
  {
   "cell_type": "code",
   "execution_count": 10,
   "metadata": {},
   "outputs": [
    {
     "name": "stdout",
     "output_type": "stream",
     "text": [
      "harry\n",
      "rohan\n",
      "suraj\n",
      "sahil\n",
      "happy\n"
     ]
    }
   ],
   "source": [
    "def funargs(normal,*args):\n",
    "  \n",
    "    for item in args:\n",
    "        print(item)\n",
    "\n",
    "        \n",
    "har = [\"harry\",\"rohan\",\"suraj\",\"sahil\",\"happy\"]\n",
    "normal = \"I am a normal argument and the students are:\"\n",
    "funargs(normal,*har,)"
   ]
  },
  {
   "cell_type": "code",
   "execution_count": 9,
   "metadata": {},
   "outputs": [
    {
     "name": "stdout",
     "output_type": "stream",
     "text": [
      "I am a normal argument and the students are:\n",
      "harry\n",
      "rohan\n",
      "suraj\n",
      "sahil\n",
      "happy\n",
      "\n",
      "Now i would like to introduce some of our heroes\n",
      "Rohan is a monitor\n",
      "Sahil is a player\n"
     ]
    }
   ],
   "source": [
    "def funargs(normal,*args, **kwargs):\n",
    "    print(normal)\n",
    "    for item in args:\n",
    "        print(item)\n",
    "    print(\"\\nNow i would like to introduce some of our heroes\")\n",
    "    for key, value in kwargs.items():\n",
    "        print(f\"{key} is a {value}\")\n",
    "        \n",
    "har = [\"harry\",\"rohan\",\"suraj\",\"sahil\",\"happy\"]\n",
    "normal = \"I am a normal argument and the students are:\"\n",
    "kw = {\"Rohan\":\"monitor\",\"Sahil\":\"player\"}\n",
    "funargs(normal,*har,**kw)"
   ]
  },
  {
   "cell_type": "code",
   "execution_count": 12,
   "metadata": {},
   "outputs": [
    {
     "name": "stdout",
     "output_type": "stream",
     "text": [
      "How are you\n",
      "How are you\n",
      "How are you\n",
      "How are you\n",
      "How are you\n",
      "How are you\n",
      "How are you\n",
      "How are you\n",
      "How are you\n",
      "How are you\n",
      "How are you\n",
      "How are you\n",
      "How are you\n",
      "How are you\n",
      "How are you\n",
      "How are you\n",
      "How are you\n",
      "How are you\n",
      "How are you\n",
      "How are you\n",
      "While loop ran in 0.0020494461059570312 seconds\n",
      "How are you\n",
      "How are you\n",
      "How are you\n",
      "How are you\n",
      "How are you\n",
      "How are you\n",
      "How are you\n",
      "How are you\n",
      "How are you\n",
      "How are you\n",
      "How are you\n",
      "How are you\n",
      "How are you\n",
      "How are you\n",
      "How are you\n",
      "How are you\n",
      "How are you\n",
      "How are you\n",
      "How are you\n",
      "How are you\n",
      "for loop ran in 0.0010097026824951172 seconds\n"
     ]
    }
   ],
   "source": [
    "#time module\n",
    "import time\n",
    "initial = time.time()\n",
    "k=0\n",
    "while(k<20):\n",
    "    print(\"How are you\")\n",
    "    k+=1\n",
    "print(\"While loop ran in\", time.time() - initial, \"seconds\") \n",
    "\n",
    "initial2 = time.time()\n",
    "for i in range(20):\n",
    "    print(\"How are you\")\n",
    "print(\"for loop ran in\", time.time() - initial2, \"seconds\") \n"
   ]
  },
  {
   "cell_type": "code",
   "execution_count": 14,
   "metadata": {},
   "outputs": [
    {
     "name": "stdout",
     "output_type": "stream",
     "text": [
      "Thu Aug 13 12:20:01 2020\n"
     ]
    }
   ],
   "source": [
    "import time\n",
    "localtime = time.asctime(time.localtime(time.time()))\n",
    "print(localtime)"
   ]
  },
  {
   "cell_type": "code",
   "execution_count": 6,
   "metadata": {},
   "outputs": [
    {
     "name": "stdout",
     "output_type": "stream",
     "text": [
      " please buy bhindi\n",
      " please buy maggiee\n"
     ]
    }
   ],
   "source": [
    "#enumerate function\n",
    "list = [\"bhindi\",\"aloo\",\"maggiee\",\"choclate\"]\n",
    "#i=1\n",
    "#for item in list:\n",
    "#    if i%2 is not 0:\n",
    "#        print(f\"please buy {item}\")\n",
    "#    i +=1\n",
    "\n",
    "for index, item in enumerate(list):\n",
    "    if index%2==0:\n",
    "        print(f\" please buy {item}\")"
   ]
  },
  {
   "cell_type": "code",
   "execution_count": 8,
   "metadata": {},
   "outputs": [
    {
     "name": "stdout",
     "output_type": "stream",
     "text": [
      "1.0.1\n"
     ]
    }
   ],
   "source": [
    "#how import works in python\n",
    "import pandas as pd\n",
    "print(pd.__version__)\n"
   ]
  },
  {
   "cell_type": "code",
   "execution_count": 9,
   "metadata": {},
   "outputs": [
    {
     "name": "stdout",
     "output_type": "stream",
     "text": [
      "['C:\\\\Users\\\\Hp', 'C:\\\\ProgramData\\\\Anaconda3\\\\python37.zip', 'C:\\\\ProgramData\\\\Anaconda3\\\\DLLs', 'C:\\\\ProgramData\\\\Anaconda3\\\\lib', 'C:\\\\ProgramData\\\\Anaconda3', '', 'C:\\\\ProgramData\\\\Anaconda3\\\\lib\\\\site-packages', 'C:\\\\ProgramData\\\\Anaconda3\\\\lib\\\\site-packages\\\\win32', 'C:\\\\ProgramData\\\\Anaconda3\\\\lib\\\\site-packages\\\\win32\\\\lib', 'C:\\\\ProgramData\\\\Anaconda3\\\\lib\\\\site-packages\\\\Pythonwin', 'C:\\\\ProgramData\\\\Anaconda3\\\\lib\\\\site-packages\\\\IPython\\\\extensions', 'C:\\\\Users\\\\Hp\\\\.ipython']\n"
     ]
    }
   ],
   "source": [
    "import sys\n",
    "print(sys.path)"
   ]
  },
  {
   "cell_type": "code",
   "execution_count": 10,
   "metadata": {},
   "outputs": [
    {
     "name": "stdout",
     "output_type": "stream",
     "text": [
      "john and cena and randy and orton and khali and other wwe superstars\n"
     ]
    }
   ],
   "source": [
    "#join function\n",
    "list = [\"john\",\"cena\",\"randy\",\"orton\",\"khali\"]\n",
    "for item in list:\n",
    "    print(item, \"and\", end=' ')\n",
    "print(\"other wwe superstars\")    "
   ]
  },
  {
   "cell_type": "code",
   "execution_count": 11,
   "metadata": {},
   "outputs": [
    {
     "name": "stdout",
     "output_type": "stream",
     "text": [
      "john ,cena ,randy ,orton ,khali other wwe superstars\n"
     ]
    }
   ],
   "source": [
    "list = [\"john\",\"cena\",\"randy\",\"orton\",\"khali\"]\n",
    "#for item in list:\n",
    "#    print(item, \"and\", end=' ')\n",
    "a = \" ,\".join(list)\n",
    "print(a, \"other wwe superstars\")"
   ]
  },
  {
   "cell_type": "code",
   "execution_count": 12,
   "metadata": {},
   "outputs": [
    {
     "name": "stdout",
     "output_type": "stream",
     "text": [
      "65\n"
     ]
    }
   ],
   "source": [
    "#map, filter, reduce\n",
    "numbers = [\"3\", \"34\", \"64\"]\n",
    "for i in range (len(numbers)):\n",
    "    numbers[i] = int(numbers[i]) # numbers ko string se int me kiya\n",
    "numbers[2] = numbers[2]+1\n",
    "print(numbers[2])"
   ]
  },
  {
   "cell_type": "code",
   "execution_count": 13,
   "metadata": {},
   "outputs": [
    {
     "ename": "TypeError",
     "evalue": "'list' object is not callable",
     "output_type": "error",
     "traceback": [
      "\u001b[1;31m---------------------------------------------------------------------------\u001b[0m",
      "\u001b[1;31mTypeError\u001b[0m                                 Traceback (most recent call last)",
      "\u001b[1;32m<ipython-input-13-3e5c5ea2e6f8>\u001b[0m in \u001b[0;36m<module>\u001b[1;34m\u001b[0m\n\u001b[0;32m      1\u001b[0m \u001b[0mnumbers\u001b[0m \u001b[1;33m=\u001b[0m \u001b[1;33m[\u001b[0m\u001b[1;34m\"3\"\u001b[0m\u001b[1;33m,\u001b[0m \u001b[1;34m\"34\"\u001b[0m\u001b[1;33m,\u001b[0m \u001b[1;34m\"64\"\u001b[0m\u001b[1;33m]\u001b[0m\u001b[1;33m\u001b[0m\u001b[1;33m\u001b[0m\u001b[0m\n\u001b[1;32m----> 2\u001b[1;33m \u001b[0mnumbers\u001b[0m \u001b[1;33m=\u001b[0m \u001b[0mlist\u001b[0m\u001b[1;33m(\u001b[0m\u001b[0mmap\u001b[0m\u001b[1;33m(\u001b[0m\u001b[0mint\u001b[0m\u001b[1;33m,\u001b[0m \u001b[0mnumbers\u001b[0m\u001b[1;33m)\u001b[0m\u001b[1;33m)\u001b[0m \u001b[1;31m# map function ne numbers k sare ko int me kr diya\u001b[0m\u001b[1;33m\u001b[0m\u001b[1;33m\u001b[0m\u001b[0m\n\u001b[0m\u001b[0;32m      3\u001b[0m \u001b[1;31m#for i in range (len(numbers)):\u001b[0m\u001b[1;33m\u001b[0m\u001b[1;33m\u001b[0m\u001b[1;33m\u001b[0m\u001b[0m\n\u001b[0;32m      4\u001b[0m  \u001b[1;31m#   numbers[i] = int(numbers[i]) # numbers ko string se int me kiya\u001b[0m\u001b[1;33m\u001b[0m\u001b[1;33m\u001b[0m\u001b[1;33m\u001b[0m\u001b[0m\n\u001b[0;32m      5\u001b[0m \u001b[0mnumbers\u001b[0m\u001b[1;33m[\u001b[0m\u001b[1;36m2\u001b[0m\u001b[1;33m]\u001b[0m \u001b[1;33m=\u001b[0m \u001b[0mnumbers\u001b[0m\u001b[1;33m[\u001b[0m\u001b[1;36m2\u001b[0m\u001b[1;33m]\u001b[0m\u001b[1;33m+\u001b[0m\u001b[1;36m1\u001b[0m\u001b[1;33m\u001b[0m\u001b[1;33m\u001b[0m\u001b[0m\n",
      "\u001b[1;31mTypeError\u001b[0m: 'list' object is not callable"
     ]
    }
   ],
   "source": [
    "numbers = [\"3\", \"34\", \"64\"]\n",
    "numbers = list(map(int, numbers)) # map function ne numbers k sare ko int me kr diya\n",
    "#for i in range (len(numbers)):\n",
    " #   numbers[i] = int(numbers[i]) # numbers ko string se int me kiya\n",
    "numbers[2] = numbers[2]+1\n",
    "#print(numbers[2])\n",
    "\n"
   ]
  },
  {
   "cell_type": "code",
   "execution_count": 33,
   "metadata": {},
   "outputs": [
    {
     "name": "stdout",
     "output_type": "stream",
     "text": [
      "subscribe now\n"
     ]
    }
   ],
   "source": [
    "# Decorators\n",
    "def function1():\n",
    "    print(\"subscribe now\")\n",
    "func2 = function1\n",
    "#del function1 # print hoga agr del bi kr diya to\n",
    "func2()"
   ]
  },
  {
   "cell_type": "code",
   "execution_count": 34,
   "metadata": {},
   "outputs": [
    {
     "name": "stdout",
     "output_type": "stream",
     "text": [
      "<built-in function print>\n"
     ]
    }
   ],
   "source": [
    "def funcret(num):\n",
    "    if num == 0:\n",
    "        return print\n",
    "    if num ==1:\n",
    "        return int\n",
    "a = funcret(0)\n",
    "print(a)"
   ]
  },
  {
   "cell_type": "code",
   "execution_count": 37,
   "metadata": {},
   "outputs": [
    {
     "name": "stdout",
     "output_type": "stream",
     "text": [
      "executing now\n",
      "harry is a good boy\n",
      "executed\n"
     ]
    }
   ],
   "source": [
    "def deco1(func1):\n",
    "    def nowexec():\n",
    "        print (\"executing now\")\n",
    "        func1()\n",
    "        print(\"executed\")\n",
    "    return nowexec\n",
    "def who_is_harry():\n",
    "    print(\"harry is a good boy\")\n",
    "#who_is_harry()\n",
    "who_is_harry = deco1(who_is_harry) # isi ko @deco1 likhte h\n",
    "who_is_harry()"
   ]
  },
  {
   "cell_type": "code",
   "execution_count": 1,
   "metadata": {},
   "outputs": [
    {
     "name": "stdout",
     "output_type": "stream",
     "text": [
      "<__main__.Student object at 0x0000019404D94C08> <__main__.Student object at 0x0000019404D971C8>\n"
     ]
    }
   ],
   "source": [
    "# OOPS -- classes bnate h jisme template hota h eg name id roll no marks\n",
    "# object - instance of the class\n",
    "class Student:\n",
    "    pass\n",
    "harry = Student()\n",
    "larry = Student()\n",
    "print(harry, larry)\n",
    "# do alg alg object h"
   ]
  },
  {
   "cell_type": "code",
   "execution_count": 4,
   "metadata": {},
   "outputs": [
    {
     "name": "stdout",
     "output_type": "stream",
     "text": [
      "12\n",
      "1 Harry\n"
     ]
    }
   ],
   "source": [
    "class Student:\n",
    "    pass\n",
    "harry = Student()\n",
    "larry = Student()\n",
    "\n",
    "harry.name = \"Harry\"  # class me kuch variable dal diye\n",
    "harry.std = 12\n",
    "harry.section = 1\n",
    "print(harry.std)\n",
    "print(harry.section, harry.name)"
   ]
  },
  {
   "cell_type": "code",
   "execution_count": 7,
   "metadata": {},
   "outputs": [
    {
     "name": "stdout",
     "output_type": "stream",
     "text": [
      "Rohan\n",
      "8\n"
     ]
    }
   ],
   "source": [
    "class Employee:\n",
    "    no_of_leaves = 8\n",
    "    pass\n",
    "harry = Employee()\n",
    "rohan = Employee()\n",
    "\n",
    "harry.name = \"Harry\"\n",
    "harry.salary = 40000\n",
    "harry.role = \"Instructor\"\n",
    "\n",
    "rohan.name = \"Rohan\"\n",
    "rohan.salary = 35000\n",
    "rohan.role = \"Teacher\"\n",
    "print(rohan.name)\n",
    "print(harry.no_of_leaves)  # main class me jo rehga sabkeliye access hoga"
   ]
  },
  {
   "cell_type": "code",
   "execution_count": 12,
   "metadata": {},
   "outputs": [
    {
     "name": "stdout",
     "output_type": "stream",
     "text": [
      "8\n",
      "8\n",
      "9\n"
     ]
    }
   ],
   "source": [
    "class Employee:\n",
    "    no_of_leaves = 8\n",
    "    pass\n",
    "harry = Employee()\n",
    "rohan = Employee()\n",
    "\n",
    "harry.name = \"Harry\"\n",
    "harry.salary = 40000\n",
    "harry.role = \"Instructor\"\n",
    "\n",
    "rohan.name = \"Rohan\"\n",
    "rohan.salary = 35000\n",
    "rohan.role = \"Teacher\"\n",
    "#agr aap ko leaves change krni ho to sirf Employee k nam se change hoga\n",
    "print(Employee.no_of_leaves) # same print(rohan.no_of_leaves)\n",
    "\n",
    "rohan.no_of_leaves = 9 # change kiya nhi hua\n",
    "print(Employee.no_of_leaves) # instance object bna deta h\n",
    "Employee.no_of_leaves = 9\n",
    "print(Employee.no_of_leaves) # yha change ho gya\n"
   ]
  },
  {
   "cell_type": "code",
   "execution_count": 14,
   "metadata": {},
   "outputs": [
    {
     "name": "stdout",
     "output_type": "stream",
     "text": [
      "{'name': 'Rohan', 'salary': 35000, 'role': 'Teacher'}\n",
      "{'name': 'Rohan', 'salary': 35000, 'role': 'Teacher', 'no_of_leaves': 9}\n"
     ]
    }
   ],
   "source": [
    "class Employee:\n",
    "    no_of_leaves = 8 #class variable\n",
    "    pass\n",
    "harry = Employee()\n",
    "rohan = Employee()\n",
    "\n",
    "harry.name = \"Harry\"\n",
    "harry.salary = 40000\n",
    "harry.role = \"Instructor\"\n",
    "\n",
    "rohan.name = \"Rohan\"\n",
    "rohan.salary = 35000\n",
    "rohan.role = \"Teacher\"\n",
    "print(rohan.__dict__) # dict attribute\n",
    "\n",
    "rohan.no_of_leaves=9\n",
    "print(rohan.__dict__) "
   ]
  },
  {
   "cell_type": "code",
   "execution_count": 21,
   "metadata": {},
   "outputs": [
    {
     "name": "stdout",
     "output_type": "stream",
     "text": [
      "Name is Rohan, Salary is 35000 and role is Teacher\n"
     ]
    }
   ],
   "source": [
    "#self and __init__\n",
    "class Employee:\n",
    "    no_of_leaves = 8 #class variable\n",
    "    def printdetails(self): # agr mai rohan pe rohan.printdetails kru tu self rohan ho jyga\n",
    "        return f\"Name is {self.name}, Salary is {self.salary} and role is {self.role}\"\n",
    "        \n",
    "harry = Employee()\n",
    "rohan = Employee()\n",
    "\n",
    "harry.name = \"Harry\"\n",
    "harry.salary = 40000\n",
    "harry.role = \"Instructor\"\n",
    "\n",
    "rohan.name = \"Rohan\"\n",
    "rohan.salary = 35000\n",
    "rohan.role = \"Teacher\"\n",
    "print(rohan.printdetails())"
   ]
  },
  {
   "cell_type": "code",
   "execution_count": 24,
   "metadata": {},
   "outputs": [
    {
     "name": "stdout",
     "output_type": "stream",
     "text": [
      "400\n"
     ]
    }
   ],
   "source": [
    "class Employee:\n",
    "    def __init__(self, name, salary, role): #__init__ ek constructor h\n",
    "        self.name = name\n",
    "        self.salary= salary\n",
    "        self.role = role\n",
    "harry = Employee(\"Harry\",400,\"Instructor\")\n",
    "print(harry.salary)        "
   ]
  },
  {
   "cell_type": "code",
   "execution_count": 27,
   "metadata": {},
   "outputs": [
    {
     "name": "stdout",
     "output_type": "stream",
     "text": [
      "400\n",
      "34\n"
     ]
    }
   ],
   "source": [
    "# class methods\n",
    "class Employee:\n",
    "    no_of_leaves = 8\n",
    "    def __init__(self, name, salary, role): #__init__ ek constructor h\n",
    "        self.name = name\n",
    "        self.salary= salary\n",
    "        self.role = role\n",
    "    def printdetails(self): \n",
    "        return f\"Name is {self.name}, Salary is {self.salary} and role is {self.role}\" \n",
    "    @classmethod\n",
    "    def change_leaves(cls, newleaves):#class method... instace bi access kr leta h\n",
    "        cls.no_of_leaves = newleaves\n",
    "        \n",
    "harry = Employee(\"Harry\",400,\"Instructor\")\n",
    "rohan = Employee(\"Rohan\",200,\"Teacher\")\n",
    "print(harry.salary) \n",
    "harry.change_leaves(34)\n",
    "print(harry.no_of_leaves)"
   ]
  },
  {
   "cell_type": "code",
   "execution_count": 30,
   "metadata": {},
   "outputs": [
    {
     "name": "stdout",
     "output_type": "stream",
     "text": [
      "480\n"
     ]
    }
   ],
   "source": [
    "#class method as alternative constructor\n",
    "class Employee:\n",
    "    no_of_leaves = 8\n",
    "    def __init__(self, name, salary, role): #__init__ ek constructor h\n",
    "        self.name = name\n",
    "        self.salary= salary\n",
    "        self.role = role\n",
    "    def printdetails(self): \n",
    "        return f\"Name is {self.name}, Salary is {self.salary} and role is {self.role}\" \n",
    "    @classmethod\n",
    "    def change_leaves(cls, newleaves):#class method... instace bi access kr leta h\n",
    "        cls.no_of_leaves = newleaves\n",
    "    @classmethod\n",
    "    def from_str(cls,string):  # ek alternative constructor jo - ko split kr k from_str se output deta h\n",
    "       # params = string.split(\"-\")\n",
    "       # return cls(params[0], params[1], params[2])\n",
    "        return cls(*string.split(\"-\"))  # one line code\n",
    "        \n",
    "harry = Employee(\"Harry\",400,\"Instructor\")\n",
    "rohan = Employee(\"Rohan\",200,\"Teacher\")\n",
    "karan = Employee.from_str(\"Karan-480-student\")\n",
    "print(karan.salary)"
   ]
  },
  {
   "cell_type": "code",
   "execution_count": 31,
   "metadata": {},
   "outputs": [],
   "source": [
    "#static method\n"
   ]
  },
  {
   "cell_type": "code",
   "execution_count": 39,
   "metadata": {},
   "outputs": [
    {
     "name": "stdout",
     "output_type": "stream",
     "text": [
      "The programmer's name is Shubham, Salary is 555 and role is programmer\n"
     ]
    }
   ],
   "source": [
    "# single inheritance\n",
    "class Employee:\n",
    "    no_of_leaves = 8\n",
    "    def __init__(self, name, salary, role): #__init__ ek constructor h\n",
    "        self.name = name\n",
    "        self.salary= salary\n",
    "        self.role = role\n",
    "    def printdetails(self): \n",
    "        return f\"Name is {self.name}, Salary is {self.salary} and role is {self.role}\" \n",
    "    @classmethod\n",
    "    def change_leaves(cls, newleaves):#class method... instace bi access kr leta h\n",
    "        cls.no_of_leaves = newleaves\n",
    "    @classmethod\n",
    "    def from_str(cls,string): \n",
    "        return cls(*string.split(\"-\"))  # one line code\n",
    "    \n",
    "class Programmer(Employee):   # inheritance\n",
    "    # def __init__(self,name,salary,role,languages): #constructor bi bna skte h\n",
    "    #  self.name = name         #copy nhi krna super() use krna\n",
    "    #  self.salary= salary\n",
    "    #  self.role = role\n",
    "    #  self.languages\n",
    "    def printprog(self):\n",
    "         return f\"The programmer's name is {self.name}, Salary is {self.salary} and role is {self.role}\"\n",
    "        \n",
    "\n",
    "harry = Employee(\"Harry\",400,\"Instructor\")\n",
    "rohan = Employee(\"Rohan\",200,\"Teacher\")\n",
    "\n",
    "shubham = Programmer(\"Shubham\", 555, \"programmer\")\n",
    "print(shubham.printprog())"
   ]
  },
  {
   "cell_type": "code",
   "execution_count": 44,
   "metadata": {},
   "outputs": [
    {
     "name": "stdout",
     "output_type": "stream",
     "text": [
      "Name is Karan, Salary is 1000 and role is Coolprogrammer\n"
     ]
    }
   ],
   "source": [
    "# multiple inheritance\n",
    "class Employee:\n",
    "    no_of_leaves = 8\n",
    "    def __init__(self, name, salary, role): #__init__ ek constructor h\n",
    "        self.name = name\n",
    "        self.salary= salary\n",
    "        self.role = role\n",
    "    def printdetails(self): \n",
    "        return f\"Name is {self.name}, Salary is {self.salary} and role is {self.role}\" \n",
    "    @classmethod\n",
    "    def change_leaves(cls, newleaves):#class method... instace bi access kr leta h\n",
    "        cls.no_of_leaves = newleaves\n",
    "    @classmethod\n",
    "    def from_str(cls,string):  \n",
    "        return cls(*string.split(\"-\"))\n",
    "    \n",
    "class Player:\n",
    "    no_of_games = 4\n",
    "    def __init__(self, name, game):\n",
    "        self.name = name\n",
    "        self.game = game\n",
    "    def printdetails(self): \n",
    "        return f\"Name is {self.name}, Game is {self.game}\"\n",
    "    \n",
    "class CoolProgrammer(Employee, Player): # do class ko inhertance kiya hua h\n",
    "    pass\n",
    "harry = Employee(\"Harry\",400,\"Instructor\")\n",
    "rohan = Employee(\"Rohan\",200,\"Teacher\") \n",
    "\n",
    "shubham = Player(\"Shumbham\",[\"Cricket\"]) # list bi bna skte h\n",
    "karan = CoolProgrammer(\"Karan\", 1000,\"Coolprogrammer\")\n",
    "x = karan.printdetails()\n",
    "print(x)"
   ]
  },
  {
   "cell_type": "code",
   "execution_count": null,
   "metadata": {},
   "outputs": [],
   "source": []
  }
 ],
 "metadata": {
  "kernelspec": {
   "display_name": "Python 3",
   "language": "python",
   "name": "python3"
  },
  "language_info": {
   "codemirror_mode": {
    "name": "ipython",
    "version": 3
   },
   "file_extension": ".py",
   "mimetype": "text/x-python",
   "name": "python",
   "nbconvert_exporter": "python",
   "pygments_lexer": "ipython3",
   "version": "3.8.5"
  }
 },
 "nbformat": 4,
 "nbformat_minor": 4
}
